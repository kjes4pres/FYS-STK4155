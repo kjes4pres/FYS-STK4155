{
 "cells": [
  {
   "cell_type": "markdown",
   "id": "bcb25e64",
   "metadata": {},
   "source": [
    "# Exercises week 41\n",
    "\n",
    "**Kjersti Stangeland**\n",
    "\n",
    "**October 6-10, 2025**\n",
    "\n",
    "Date: **Deadline is Friday October 10 at midnight**\n"
   ]
  },
  {
   "cell_type": "markdown",
   "id": "bb01f126",
   "metadata": {},
   "source": [
    "# Overarching aims of the exercises this week\n",
    "\n",
    "This week, you will implement the entire feed-forward pass of a neural network! Next week you will compute the gradient of the network by implementing back-propagation manually, and by using autograd which does back-propagation for you (much easier!). Next week, you will also use the gradient to optimize the network with a gradient method! However, there is an optional exercise this week to get started on training the network and getting good results!\n",
    "\n",
    "We recommend that you do the exercises this week by editing and running this notebook file, as it includes some checks along the way that you have implemented the pieces of the feed-forward pass correctly, and running small parts of the code at a time will be important for understanding the methods.\n",
    "\n",
    "If you have trouble running a notebook, you can run this notebook in google colab instead (https://colab.research.google.com/drive/1zKibVQf-iAYaAn2-GlKfgRjHtLnPlBX4#offline=true&sandboxMode=true), an updated link will be provided on the course discord (you can also send an email to k.h.fredly@fys.uio.no if you encounter any trouble), though we recommend that you set up VSCode and your python environment to run code like this locally.\n",
    "\n",
    "First, here are some functions you are going to need, don't change this cell. If you are unable to import autograd, just swap in normal numpy until you want to do the final optional exercise.\n"
   ]
  },
  {
   "cell_type": "code",
   "execution_count": 157,
   "id": "c6f61b09",
   "metadata": {},
   "outputs": [],
   "source": [
    "import autograd.numpy as np  # We need to use this numpy wrapper to make automatic differentiation work later\n",
    "from sklearn import datasets\n",
    "import matplotlib.pyplot as plt\n",
    "from sklearn.metrics import accuracy_score\n",
    "\n",
    "\n",
    "# Defining some activation functions\n",
    "def ReLU(z):\n",
    "    return np.where(z > 0, z, 0)\n",
    "\n",
    "\n",
    "def sigmoid(z):\n",
    "    return 1 / (1 + np.exp(-z))\n",
    "\n",
    "\n",
    "def softmax(z):\n",
    "    \"\"\"Compute softmax values for each set of scores in the rows of the matrix z.\n",
    "    Used with batched input data.\"\"\"\n",
    "    e_z = np.exp(z - np.max(z, axis=0))\n",
    "    return e_z / np.sum(e_z, axis=1)[:, np.newaxis]\n",
    "\n",
    "\n",
    "def softmax_vec(z):\n",
    "    \"\"\"Compute softmax values for each set of scores in the vector z.\n",
    "    Use this function when you use the activation function on one vector at a time\"\"\"\n",
    "    e_z = np.exp(z - np.max(z))\n",
    "    return e_z / np.sum(e_z)"
   ]
  },
  {
   "cell_type": "markdown",
   "id": "6248ec53",
   "metadata": {},
   "source": [
    "# Exercise 1\n",
    "\n",
    "In this exercise you will compute the activation of the first layer. You only need to change the code in the cells right below an exercise, the rest works out of the box. Feel free to make changes and see how stuff works though!\n"
   ]
  },
  {
   "cell_type": "code",
   "execution_count": 158,
   "id": "37f30740",
   "metadata": {},
   "outputs": [],
   "source": [
    "np.random.seed(2024)\n",
    "\n",
    "x = np.random.randn(2)  # network input. This is a single input with two features\n",
    "W1 = np.random.randn(4, 2)  # first layer weights"
   ]
  },
  {
   "cell_type": "markdown",
   "id": "4ed2cf3d",
   "metadata": {},
   "source": [
    "**a)** Given the shape of the first layer weight matrix, what is the input shape of the neural network? What is the output shape of the first layer?\n"
   ]
  },
  {
   "cell_type": "code",
   "execution_count": 159,
   "id": "3c42cd7c",
   "metadata": {},
   "outputs": [
    {
     "data": {
      "text/plain": [
       "(4,)"
      ]
     },
     "execution_count": 159,
     "metadata": {},
     "output_type": "execute_result"
    }
   ],
   "source": [
    "example_output = W1 @ x\n",
    "np.shape(example_output)"
   ]
  },
  {
   "cell_type": "markdown",
   "id": "6b0387ad",
   "metadata": {},
   "source": [
    "__Answer 1a):__\n",
    "The shape of the weight matrix is (4, 2), meaning 4 rows and 2 columns. The columns indicate features and the rows are number of neurons, where each neuron has 2 weights associated with each feature. So the shape of the input is $(2,)$, being 2 features. Applying the weight matrix to the input yields a matrix multiplication where the output of the first layer has shape $(4, )$. This corresponds to the outputs of the 4 neurons in the first layer, where each neuron produces one output."
   ]
  },
  {
   "cell_type": "markdown",
   "id": "edf7217b",
   "metadata": {},
   "source": [
    "**b)** Define the bias of the first layer, `b1`with the correct shape. (Run the next cell right after the previous to get the random generated values to line up with the test solution below)\n"
   ]
  },
  {
   "cell_type": "markdown",
   "id": "ddff7cea",
   "metadata": {},
   "source": [
    "__Answer 1b):__\n",
    "The bias is added to the matrix multiplication of weights and the input, so it has to have shape $(4,)$."
   ]
  },
  {
   "cell_type": "code",
   "execution_count": 160,
   "id": "2129c19f",
   "metadata": {},
   "outputs": [],
   "source": [
    "b1 = np.random.randn(4)"
   ]
  },
  {
   "cell_type": "markdown",
   "id": "09e8d453",
   "metadata": {},
   "source": [
    "**c)** Compute the intermediary `z1` for the first layer\n"
   ]
  },
  {
   "cell_type": "code",
   "execution_count": 161,
   "id": "6837119b",
   "metadata": {},
   "outputs": [],
   "source": [
    "z1 = W1 @ x + b1"
   ]
  },
  {
   "cell_type": "markdown",
   "id": "6f71374e",
   "metadata": {},
   "source": [
    "**d)** Compute the activation `a1` for the first layer using the ReLU activation function defined earlier.\n"
   ]
  },
  {
   "cell_type": "code",
   "execution_count": 162,
   "id": "8d41ed19",
   "metadata": {},
   "outputs": [],
   "source": [
    "a1 = ReLU(z1)"
   ]
  },
  {
   "cell_type": "markdown",
   "id": "088710c0",
   "metadata": {},
   "source": [
    "Confirm that you got the correct activation with the test below. Make sure that you define `b1` with the randn function right after you define `W1`.\n"
   ]
  },
  {
   "cell_type": "code",
   "execution_count": 163,
   "id": "4d2f54b4",
   "metadata": {},
   "outputs": [
    {
     "name": "stdout",
     "output_type": "stream",
     "text": [
      "True\n"
     ]
    }
   ],
   "source": [
    "sol1 = np.array([0.60610368, 4.0076268, 0.0, 0.56469864])\n",
    "\n",
    "print(np.allclose(a1, sol1))"
   ]
  },
  {
   "cell_type": "code",
   "execution_count": 164,
   "id": "fcd85fd1",
   "metadata": {},
   "outputs": [
    {
     "data": {
      "text/plain": [
       "(4,)"
      ]
     },
     "execution_count": 164,
     "metadata": {},
     "output_type": "execute_result"
    }
   ],
   "source": [
    "np.shape(a1)"
   ]
  },
  {
   "cell_type": "markdown",
   "id": "7fb0cf46",
   "metadata": {},
   "source": [
    "# Exercise 2\n",
    "\n",
    "Now we will add a layer to the network with an output of length 8 and ReLU activation.\n",
    "\n",
    "**a)** What is the input of the second layer? What is its shape?\n",
    "\n",
    "__Answer 2a):__\n",
    "The input of the second layer is the output from the first layer, meaning `a1`, with shape $(4,)$."
   ]
  },
  {
   "cell_type": "markdown",
   "id": "142df24b",
   "metadata": {},
   "source": [
    "**b)** Define the weight and bias of the second layer with the right shapes."
   ]
  },
  {
   "cell_type": "code",
   "execution_count": 165,
   "id": "00063acf",
   "metadata": {},
   "outputs": [],
   "source": [
    "W2 = np.random.randn(8, 4)\n",
    "b2 = np.random.randn(8)"
   ]
  },
  {
   "cell_type": "markdown",
   "id": "5bd7d84b",
   "metadata": {},
   "source": [
    "**c)** Compute the intermediary `z2` and activation `a2` for the second layer.\n"
   ]
  },
  {
   "cell_type": "code",
   "execution_count": 166,
   "id": "2fd0383d",
   "metadata": {},
   "outputs": [],
   "source": [
    "z2 = W2 @ a1 + b2\n",
    "a2 = ReLU(z2)"
   ]
  },
  {
   "cell_type": "markdown",
   "id": "1b5daae5",
   "metadata": {},
   "source": [
    "Confirm that you got the correct activation shape with the test below.\n"
   ]
  },
  {
   "cell_type": "code",
   "execution_count": 167,
   "id": "f7f2f8a1",
   "metadata": {},
   "outputs": [
    {
     "name": "stdout",
     "output_type": "stream",
     "text": [
      "True\n"
     ]
    }
   ],
   "source": [
    "print(\n",
    "    np.allclose(np.exp(len(a2)), 2980.9579870417283)\n",
    ")  # This should evaluate to True if a2 has the correct shape :)"
   ]
  },
  {
   "cell_type": "markdown",
   "id": "3759620d",
   "metadata": {},
   "source": [
    "# Exercise 3\n",
    "\n",
    "We often want our neural networks to have many layers of varying sizes. To avoid writing very long and error-prone code where we explicitly define and evaluate each layer we should keep all our layers in a single variable which is easy to create and use.\n",
    "\n",
    "**a)** Complete the function below so that it returns a list `layers` of weight and bias tuples `(W, b)` for each layer, in order, with the correct shapes that we can use later as our network parameters.\n"
   ]
  },
  {
   "cell_type": "code",
   "execution_count": 168,
   "id": "c58f10f9",
   "metadata": {},
   "outputs": [],
   "source": [
    "def create_layers(network_input_size, layer_output_sizes):\n",
    "    layers = []\n",
    "\n",
    "    i_size = network_input_size\n",
    "    for layer_output_size in layer_output_sizes:\n",
    "        W = np.random.randn(layer_output_size, i_size)\n",
    "        b = np.random.randn(layer_output_size)\n",
    "        layers.append((W, b))\n",
    "\n",
    "        i_size = layer_output_size\n",
    "    return layers"
   ]
  },
  {
   "cell_type": "markdown",
   "id": "bdc0cda2",
   "metadata": {},
   "source": [
    "**b)** Comple the function below so that it evaluates the intermediary `z` and activation `a` for each layer, with ReLU actication, and returns the final activation `a`. This is the complete feed-forward pass, a full neural network!\n"
   ]
  },
  {
   "cell_type": "code",
   "execution_count": 169,
   "id": "5262df05",
   "metadata": {},
   "outputs": [],
   "source": [
    "def feed_forward_all_relu(layers, input):\n",
    "    a = input\n",
    "    for W, b in layers:\n",
    "        z = W @ a + b\n",
    "        a = ReLU(z)\n",
    "    return a"
   ]
  },
  {
   "cell_type": "markdown",
   "id": "245adbcb",
   "metadata": {},
   "source": [
    "**c)** Create a network with input size 8 and layers with output sizes 10, 16, 6, 2. Evaluate it and make sure that you get the correct size vectors along the way.\n"
   ]
  },
  {
   "cell_type": "code",
   "execution_count": 170,
   "id": "89a8f70d",
   "metadata": {},
   "outputs": [
    {
     "name": "stdout",
     "output_type": "stream",
     "text": [
      "[5.36337158 0.        ]\n"
     ]
    }
   ],
   "source": [
    "input_size = 8\n",
    "layer_output_sizes = [10, 16, 6, 2]\n",
    "\n",
    "x = np.random.rand(input_size)\n",
    "layers = create_layers(input_size, layer_output_sizes)\n",
    "predict = feed_forward_all_relu(layers, x)\n",
    "print(predict)"
   ]
  },
  {
   "cell_type": "markdown",
   "id": "0da7fd52",
   "metadata": {},
   "source": [
    "**d)** Why is a neural network with no activation functions always mathematically equivelent to a neural network with only one layer?\n"
   ]
  },
  {
   "cell_type": "markdown",
   "id": "eb097b61",
   "metadata": {},
   "source": [
    "__Answer 3b):__ A neural network with no activation layer is always mathematically equivelent to a nerual network with only one layer as each layer performs a linear transformation of the inputs. With no activation function, which introduces non-linearity, the final output is just a linear combination of the input and can be reverted back to input. So even with multiple layers, no activation function gives that all layer linear combinations can be combined into one linear combination as if there were only one layer."
   ]
  },
  {
   "cell_type": "markdown",
   "id": "306d8b7c",
   "metadata": {},
   "source": [
    "# Exercise 4 - Custom activation for each layer\n"
   ]
  },
  {
   "cell_type": "markdown",
   "id": "221c7b6c",
   "metadata": {},
   "source": [
    "So far, every layer has used the same activation, ReLU. We often want to use other types of activation however, so we need to update our code to support multiple types of activation functions. Make sure that you have completed every previous exercise before trying this one.\n"
   ]
  },
  {
   "cell_type": "markdown",
   "id": "10896d06",
   "metadata": {},
   "source": [
    "**a)** Complete the `feed_forward` function which accepts a list of activation functions as an argument, and which evaluates these activation functions at each layer.\n"
   ]
  },
  {
   "cell_type": "code",
   "execution_count": 171,
   "id": "de062369",
   "metadata": {},
   "outputs": [],
   "source": [
    "def feed_forward(input, layers, activation_funcs):\n",
    "    a = input\n",
    "    for (W, b), activation_func in zip(layers, activation_funcs):\n",
    "        z = W @ a + b\n",
    "        a = activation_func(z)\n",
    "    return a"
   ]
  },
  {
   "cell_type": "markdown",
   "id": "8f7df363",
   "metadata": {},
   "source": [
    "**b)** You are now given a list with three activation functions, two ReLU and one sigmoid. (Don't call them yet! you can make a list with function names as elements, and then call these elements of the list later. If you add other functions than the ones defined at the start of the notebook, make sure everything is defined using autograd's numpy wrapper, like above, since we want to use automatic differentiation on all of these functions later.)\n",
    "\n",
    "Evaluate a network with three layers and these activation functions.\n"
   ]
  },
  {
   "cell_type": "code",
   "execution_count": 172,
   "id": "301b46dc",
   "metadata": {},
   "outputs": [
    {
     "data": {
      "text/plain": [
       "array([0.99536949, 0.99825477])"
      ]
     },
     "execution_count": 172,
     "metadata": {},
     "output_type": "execute_result"
    }
   ],
   "source": [
    "network_input_size = 8\n",
    "layer_output_sizes = [5, 8, 2]\n",
    "activation_funcs = [ReLU, ReLU, sigmoid]\n",
    "layers = create_layers(network_input_size, layer_output_sizes)\n",
    "\n",
    "x = np.random.randn(network_input_size)\n",
    "feed_forward(x, layers, activation_funcs)"
   ]
  },
  {
   "cell_type": "markdown",
   "id": "9c914fd0",
   "metadata": {},
   "source": [
    "**c)** How does the output of the network change if you use sigmoid in the hidden layers and ReLU in the output layer?\n"
   ]
  },
  {
   "cell_type": "code",
   "execution_count": 173,
   "id": "50e78a33",
   "metadata": {},
   "outputs": [
    {
     "name": "stdout",
     "output_type": "stream",
     "text": [
      "[0.        0.2621146]\n"
     ]
    }
   ],
   "source": [
    "network_input_size = 8\n",
    "layer_output_sizes = [5, 8, 2]\n",
    "activation_funcs = [sigmoid, sigmoid, ReLU]\n",
    "layers = create_layers(network_input_size, layer_output_sizes)\n",
    "\n",
    "x = np.random.randn(network_input_size)\n",
    "relu_output = feed_forward(x, layers, activation_funcs)\n",
    "print(relu_output)"
   ]
  },
  {
   "cell_type": "markdown",
   "id": "2f549885",
   "metadata": {},
   "source": [
    "__Answer 4c):__\n",
    "I struggle with seeing it myself here, but with a little help from my friend UiOGPT, I found that when using Sigmoid activation in the hidden layers, the outputs are forced in the range between 0 and 1. So thenetwork outut is constrained. Then, when using ReLU in the output layer, any negative values from the prevous layers will be turned to zero, but positive values remian. "
   ]
  },
  {
   "cell_type": "markdown",
   "id": "a8d6c425",
   "metadata": {},
   "source": [
    "# Exercise 5 - Processing multiple inputs at once\n"
   ]
  },
  {
   "cell_type": "markdown",
   "id": "0f4330a4",
   "metadata": {},
   "source": [
    "So far, the feed forward function has taken one input vector as an input. This vector then undergoes a linear transformation and then an element-wise non-linear operation for each layer. This approach of sending one vector in at a time is great for interpreting how the network transforms data with its linear and non-linear operations, but not the best for numerical efficiency. Now, we want to be able to send many inputs through the network at once. This will make the code a bit harder to understand, but it will make it faster, and more compact. It will be worth the trouble.\n",
    "\n",
    "To process multiple inputs at once, while still performing the same operations, you will only need to flip a couple things around.\n"
   ]
  },
  {
   "cell_type": "markdown",
   "id": "17023bb7",
   "metadata": {},
   "source": [
    "**a)** Complete the function `create_layers_batch` so that the weight matrix is the transpose of what it was when you only sent in one input at a time.\n"
   ]
  },
  {
   "cell_type": "code",
   "execution_count": 174,
   "id": "a241fd79",
   "metadata": {},
   "outputs": [],
   "source": [
    "def create_layers_batch(network_input_size, layer_output_sizes):\n",
    "    layers = []\n",
    "\n",
    "    i_size = network_input_size\n",
    "    for layer_output_size in layer_output_sizes:\n",
    "        W = np.random.randn(layer_output_size, i_size).T\n",
    "        b = np.random.randn(layer_output_size)\n",
    "        layers.append((W, b))\n",
    "\n",
    "        i_size = layer_output_size\n",
    "    return layers"
   ]
  },
  {
   "cell_type": "markdown",
   "id": "a6349db6",
   "metadata": {},
   "source": [
    "**b)** Make a matrix of inputs with the shape (number of features, number of inputs), you choose the number of inputs and features per input. Then complete the function `feed_forward_batch` so that you can process this matrix of inputs with only one matrix multiplication and one broadcasted vector addition per layer. (Hint: You will only need to swap two variable around from your previous implementation, but remember to test that you get the same results for equivelent inputs!)\n"
   ]
  },
  {
   "cell_type": "code",
   "execution_count": 175,
   "id": "425f3bcc",
   "metadata": {},
   "outputs": [],
   "source": [
    "inputs = np.random.rand(1000, 4)  # (features, inputs)\n",
    "\n",
    "def feed_forward_batch(inputs, layers, activation_funcs):\n",
    "    a = inputs\n",
    "    for (W, b), activation_func in zip(layers, activation_funcs):\n",
    "        z = a @ W + b\n",
    "        a = activation_func(z)\n",
    "    return a"
   ]
  },
  {
   "cell_type": "markdown",
   "id": "efd07b4e",
   "metadata": {},
   "source": [
    "**c)** Create and evaluate a neural network with 4 inputs and layers with output sizes 12, 10, 3 and activations ReLU, ReLU, softmax.\n"
   ]
  },
  {
   "cell_type": "code",
   "execution_count": 176,
   "id": "ce6fcc2f",
   "metadata": {},
   "outputs": [
    {
     "data": {
      "text/plain": [
       "array([[0.41938167, 0.16304261, 0.41757572],\n",
       "       [0.54359295, 0.27391737, 0.18248969],\n",
       "       [0.04282971, 0.05088938, 0.90628091],\n",
       "       ...,\n",
       "       [0.17210491, 0.78782673, 0.04006837],\n",
       "       [0.42757407, 0.53580191, 0.03662402],\n",
       "       [0.25239892, 0.21009272, 0.53750836]], shape=(1000, 3))"
      ]
     },
     "execution_count": 176,
     "metadata": {},
     "output_type": "execute_result"
    }
   ],
   "source": [
    "network_input_size = 4\n",
    "layer_output_sizes = [12, 10, 3]\n",
    "activation_funcs = [ReLU, ReLU, softmax]\n",
    "layers = create_layers_batch(network_input_size, layer_output_sizes)\n",
    "\n",
    "x = np.random.randn(network_input_size)\n",
    "feed_forward_batch(inputs, layers, activation_funcs)"
   ]
  },
  {
   "cell_type": "markdown",
   "id": "87999271",
   "metadata": {},
   "source": [
    "You should use this batched approach moving forward, as it will lead to much more compact code. However, remember that each input is still treated separately, and that you will need to keep in mind the transposed weight matrix and other details when implementing backpropagation.\n"
   ]
  },
  {
   "cell_type": "markdown",
   "id": "237eb782",
   "metadata": {},
   "source": [
    "# Exercise 6 - Predicting on real data\n"
   ]
  },
  {
   "cell_type": "markdown",
   "id": "54d5fde7",
   "metadata": {},
   "source": [
    "You will now evaluate your neural network on the iris data set (https://scikit-learn.org/1.5/auto_examples/datasets/plot_iris_dataset.html).\n",
    "\n",
    "This dataset contains data on 150 flowers of 3 different types which can be separated pretty well using the four features given for each flower, which includes the width and length of their leaves. You are will later train your network to actually make good predictions.\n"
   ]
  },
  {
   "cell_type": "code",
   "execution_count": 177,
   "id": "6bd4c148",
   "metadata": {},
   "outputs": [
    {
     "data": {
      "image/png": "[encoded data removed]",
      "text/plain": [
       "<Figure size 640x480 with 1 Axes>"
      ]
     },
     "metadata": {},
     "output_type": "display_data"
    }
   ],
   "source": [
    "iris = datasets.load_iris()\n",
    "\n",
    "_, ax = plt.subplots()\n",
    "scatter = ax.scatter(iris.data[:, 0], iris.data[:, 1], c=iris.target)\n",
    "ax.set(xlabel=iris.feature_names[0], ylabel=iris.feature_names[1])\n",
    "_ = ax.legend(\n",
    "    scatter.legend_elements()[0], iris.target_names, loc=\"lower right\", title=\"Classes\"\n",
    ")"
   ]
  },
  {
   "cell_type": "code",
   "execution_count": 178,
   "id": "ed3e2fc9",
   "metadata": {},
   "outputs": [],
   "source": [
    "inputs = iris.data\n",
    "\n",
    "# Since each prediction is a vector with a score for each of the three types of flowers,\n",
    "# we need to make each target a vector with a 1 for the correct flower and a 0 for the others.\n",
    "targets = np.zeros((len(iris.data), 3))\n",
    "for i, t in enumerate(iris.target):\n",
    "    targets[i, t] = 1\n",
    "\n",
    "\n",
    "def accuracy(predictions, targets):\n",
    "    one_hot_predictions = np.zeros(predictions.shape)\n",
    "\n",
    "    for i, prediction in enumerate(predictions):\n",
    "        one_hot_predictions[i, np.argmax(prediction)] = 1\n",
    "    return accuracy_score(one_hot_predictions, targets)"
   ]
  },
  {
   "cell_type": "markdown",
   "id": "0362c4a9",
   "metadata": {},
   "source": [
    "**a)** What should the input size for the network be with this dataset? What should the output size of the last layer be?\n"
   ]
  },
  {
   "cell_type": "markdown",
   "id": "9a15d979",
   "metadata": {},
   "source": [
    "__Answer 6a):__\n",
    "The Iris dataset has 150 samples and 4 fatures per sample. Aka 150 flowers? So each input/flower has 4 features, so the input size is 4. And then there are 3 targets given by 3 different flower species. So the output should have size 3. So for one flower with 4 features the network gives a score per target (which flower is it)."
   ]
  },
  {
   "cell_type": "markdown",
   "id": "bf62607e",
   "metadata": {},
   "source": [
    "**b)** Create a network with two hidden layers, the first with sigmoid activation and the last with softmax, the first layer should have 8 \"nodes\", the second has the number of nodes you found in exercise a). Softmax returns a \"probability distribution\", in the sense that the numbers in the output are positive and add up to 1 and, their magnitude are in some sense relative to their magnitude before going through the softmax function. Remember to use the batched version of the create_layers and feed forward functions.\n"
   ]
  },
  {
   "cell_type": "code",
   "execution_count": 179,
   "id": "5366d4ae",
   "metadata": {},
   "outputs": [],
   "source": [
    "network_input_size = 4\n",
    "layer_output_sizes = [8, 3]\n",
    "activation_funcs = [sigmoid, softmax]\n",
    "layers = create_layers_batch(network_input_size, layer_output_sizes)"
   ]
  },
  {
   "cell_type": "markdown",
   "id": "c528846f",
   "metadata": {},
   "source": [
    "**c)** Evaluate your model on the entire iris dataset! For later purposes, we will split the data into train and test sets, and compute gradients on smaller batches of the training data. But for now, evaluate the network on the whole thing at once.\n"
   ]
  },
  {
   "cell_type": "code",
   "execution_count": 180,
   "id": "6c783105",
   "metadata": {},
   "outputs": [],
   "source": [
    "predictions = feed_forward_batch(inputs, layers, activation_funcs)"
   ]
  },
  {
   "cell_type": "code",
   "execution_count": 181,
   "id": "0ed0c8ba",
   "metadata": {},
   "outputs": [
    {
     "data": {
      "text/plain": [
       "(150, 3)"
      ]
     },
     "execution_count": 181,
     "metadata": {},
     "output_type": "execute_result"
    }
   ],
   "source": [
    "np.shape(predictions)"
   ]
  },
  {
   "cell_type": "code",
   "execution_count": 182,
   "id": "35f76bf6",
   "metadata": {},
   "outputs": [
    {
     "data": {
      "text/plain": [
       "array([[0.35533043, 0.33833531, 0.30633426],\n",
       "       [0.34719964, 0.30488091, 0.34791945],\n",
       "       [0.35230466, 0.33179949, 0.31589585],\n",
       "       [0.34459571, 0.3130907 , 0.34231359],\n",
       "       [0.35659374, 0.34737154, 0.29603472],\n",
       "       [0.35796329, 0.3368957 , 0.30514101],\n",
       "       [0.35485101, 0.33999571, 0.30515327],\n",
       "       [0.35084686, 0.32751544, 0.32163771],\n",
       "       [0.34372964, 0.30852412, 0.34774624],\n",
       "       [0.342421  , 0.30845507, 0.34912393],\n",
       "       [0.35645854, 0.33993198, 0.30360949],\n",
       "       [0.34740043, 0.32643188, 0.32616768],\n",
       "       [0.34348938, 0.31011519, 0.34639543],\n",
       "       [0.35044386, 0.34059208, 0.30896406],\n",
       "       [0.36615189, 0.36041321, 0.2734349 ],\n",
       "       [0.36754547, 0.36690839, 0.26554615],\n",
       "       [0.36589546, 0.35537282, 0.27873173],\n",
       "       [0.35743883, 0.33550747, 0.3070537 ],\n",
       "       [0.35511241, 0.325272  , 0.31961559],\n",
       "       [0.35906332, 0.3502504 , 0.29068628],\n",
       "       [0.34549198, 0.30232563, 0.35218239],\n",
       "       [0.35964209, 0.34085388, 0.29950403],\n",
       "       [0.36154783, 0.36783409, 0.27061808],\n",
       "       [0.35373279, 0.29118097, 0.35508624],\n",
       "       [0.33604992, 0.30371695, 0.36023313],\n",
       "       [0.34184674, 0.28570919, 0.37244407],\n",
       "       [0.35312119, 0.3139618 , 0.33291702],\n",
       "       [0.35292065, 0.33024337, 0.31683597],\n",
       "       [0.35400568, 0.3289404 , 0.31705392],\n",
       "       [0.34330906, 0.31167377, 0.34501717],\n",
       "       [0.34188494, 0.29969388, 0.35842118],\n",
       "       [0.35799847, 0.3123756 , 0.32962593],\n",
       "       [0.35938779, 0.37132267, 0.26928954],\n",
       "       [0.36435873, 0.36908709, 0.26655418],\n",
       "       [0.34561118, 0.3051821 , 0.34920671],\n",
       "       [0.35526289, 0.33107837, 0.31365874],\n",
       "       [0.35839528, 0.33531398, 0.30629074],\n",
       "       [0.35448327, 0.35317247, 0.29234426],\n",
       "       [0.34834152, 0.32387548, 0.327783  ],\n",
       "       [0.35105115, 0.32497657, 0.32397228],\n",
       "       [0.35932321, 0.34275584, 0.29792095],\n",
       "       [0.34820837, 0.27373105, 0.37806059],\n",
       "       [0.35159796, 0.33928211, 0.30911994],\n",
       "       [0.35995799, 0.31580499, 0.32423702],\n",
       "       [0.34975168, 0.32356951, 0.32667882],\n",
       "       [0.35033007, 0.30426363, 0.34540629],\n",
       "       [0.35503699, 0.34894848, 0.29601452],\n",
       "       [0.34943185, 0.32834485, 0.3222233 ],\n",
       "       [0.35629769, 0.34223602, 0.3014663 ],\n",
       "       [0.35199155, 0.32612445, 0.321884  ],\n",
       "       [0.3990314 , 0.15302865, 0.44793994],\n",
       "       [0.40082687, 0.13981039, 0.45936274],\n",
       "       [0.40046428, 0.14935596, 0.45017977],\n",
       "       [0.3928833 , 0.16942611, 0.4376906 ],\n",
       "       [0.39707659, 0.16167025, 0.44125316],\n",
       "       [0.40147113, 0.13117532, 0.46735355],\n",
       "       [0.40289458, 0.12970226, 0.46740316],\n",
       "       [0.38979622, 0.15703212, 0.45317166],\n",
       "       [0.39792649, 0.15627027, 0.44580325],\n",
       "       [0.3983002 , 0.13702597, 0.46467383],\n",
       "       [0.38637393, 0.18374273, 0.42988334],\n",
       "       [0.39981395, 0.13984638, 0.46033968],\n",
       "       [0.38239141, 0.20736993, 0.41023866],\n",
       "       [0.40222387, 0.13464035, 0.46313578],\n",
       "       [0.39512411, 0.15137286, 0.45350303],\n",
       "       [0.39768449, 0.15600586, 0.44630965],\n",
       "       [0.4024091 , 0.12368485, 0.47390606],\n",
       "       [0.39608044, 0.14893314, 0.45498642],\n",
       "       [0.3826171 , 0.21419378, 0.40318912],\n",
       "       [0.39409204, 0.15933934, 0.44656863],\n",
       "       [0.4050629 , 0.11832508, 0.47661201],\n",
       "       [0.39517925, 0.16107241, 0.44374833],\n",
       "       [0.39771174, 0.16322806, 0.4390602 ],\n",
       "       [0.40133375, 0.1378709 , 0.46079535],\n",
       "       [0.39677122, 0.15760239, 0.44562639],\n",
       "       [0.39727162, 0.15786196, 0.44486642],\n",
       "       [0.39593146, 0.16838082, 0.43568772],\n",
       "       [0.40192621, 0.14504452, 0.45302928],\n",
       "       [0.40127126, 0.1376549 , 0.46107384],\n",
       "       [0.39020749, 0.16966329, 0.44012922],\n",
       "       [0.39248722, 0.16541465, 0.44209813],\n",
       "       [0.39118933, 0.16754466, 0.44126601],\n",
       "       [0.39508658, 0.15679171, 0.44812171],\n",
       "       [0.40559572, 0.12645489, 0.4679494 ],\n",
       "       [0.40239785, 0.11922161, 0.47838053],\n",
       "       [0.40158495, 0.12724639, 0.47116866],\n",
       "       [0.40020324, 0.14783091, 0.45196585],\n",
       "       [0.38413138, 0.20742298, 0.40844564],\n",
       "       [0.39811388, 0.13513534, 0.46675078],\n",
       "       [0.39623956, 0.15360461, 0.45015583],\n",
       "       [0.4005036 , 0.13428829, 0.46520811],\n",
       "       [0.40173137, 0.13431629, 0.46395235],\n",
       "       [0.39492673, 0.15953553, 0.44553775],\n",
       "       [0.38912752, 0.16641701, 0.44445547],\n",
       "       [0.39906187, 0.14042965, 0.46050848],\n",
       "       [0.39804327, 0.13514444, 0.46681228],\n",
       "       [0.39912839, 0.1369614 , 0.46391021],\n",
       "       [0.39813905, 0.14979239, 0.45206856],\n",
       "       [0.38877528, 0.17144894, 0.43977578],\n",
       "       [0.39822919, 0.14297318, 0.45879763],\n",
       "       [0.41291747, 0.09042853, 0.496654  ],\n",
       "       [0.40696884, 0.11941082, 0.47362034],\n",
       "       [0.4076452 , 0.13295688, 0.45939791],\n",
       "       [0.4093729 , 0.11318117, 0.47744593],\n",
       "       [0.41085694, 0.11049474, 0.47864832],\n",
       "       [0.41063451, 0.12954999, 0.4598155 ],\n",
       "       [0.40450152, 0.11404228, 0.48145619],\n",
       "       [0.4092875 , 0.1300644 , 0.4606481 ],\n",
       "       [0.40417802, 0.15044897, 0.44537301],\n",
       "       [0.41180143, 0.1060114 , 0.48218717],\n",
       "       [0.40574632, 0.12613285, 0.46812082],\n",
       "       [0.4043777 , 0.1401714 , 0.4554509 ],\n",
       "       [0.40605261, 0.13427158, 0.45967581],\n",
       "       [0.40519507, 0.13064592, 0.46415901],\n",
       "       [0.40774231, 0.11681179, 0.4754459 ],\n",
       "       [0.40812564, 0.11642936, 0.475445  ],\n",
       "       [0.40796439, 0.12005245, 0.47198316],\n",
       "       [0.4134431 , 0.10113545, 0.48542145],\n",
       "       [0.40540699, 0.16319344, 0.43139958],\n",
       "       [0.39707928, 0.16821701, 0.43470371],\n",
       "       [0.40882953, 0.12157401, 0.46959646],\n",
       "       [0.4066681 , 0.11504076, 0.47829114],\n",
       "       [0.40775972, 0.14654404, 0.44569624],\n",
       "       [0.40071672, 0.15087213, 0.44841115],\n",
       "       [0.40977444, 0.11119762, 0.47902794],\n",
       "       [0.40915529, 0.12145138, 0.46939332],\n",
       "       [0.40201392, 0.14254115, 0.45544493],\n",
       "       [0.40499248, 0.12551331, 0.46949421],\n",
       "       [0.40861023, 0.12288229, 0.46850748],\n",
       "       [0.40579002, 0.13720254, 0.45700744],\n",
       "       [0.40358822, 0.15538442, 0.44102736],\n",
       "       [0.4104575 , 0.11501529, 0.47452721],\n",
       "       [0.40860182, 0.12370681, 0.46769138],\n",
       "       [0.404229  , 0.13353511, 0.4622359 ],\n",
       "       [0.40882889, 0.11658755, 0.47458356],\n",
       "       [0.40147104, 0.16462002, 0.43390894],\n",
       "       [0.41058131, 0.10020921, 0.48920948],\n",
       "       [0.4085842 , 0.11383841, 0.47757738],\n",
       "       [0.40464057, 0.12534156, 0.47001787],\n",
       "       [0.4050989 , 0.1369423 , 0.45795879],\n",
       "       [0.40866705, 0.12212472, 0.46920824],\n",
       "       [0.40135432, 0.15193503, 0.44671065],\n",
       "       [0.40696884, 0.11941082, 0.47362034],\n",
       "       [0.41100223, 0.11081383, 0.47818394],\n",
       "       [0.41039612, 0.1105054 , 0.47909847],\n",
       "       [0.403412  , 0.14400909, 0.4525789 ],\n",
       "       [0.39763124, 0.16682609, 0.43554266],\n",
       "       [0.40546629, 0.13119279, 0.46334092],\n",
       "       [0.40939418, 0.10382788, 0.48677793],\n",
       "       [0.40711769, 0.1133591 , 0.4795232 ]])"
      ]
     },
     "execution_count": 182,
     "metadata": {},
     "output_type": "execute_result"
    }
   ],
   "source": [
    "predictions"
   ]
  },
  {
   "cell_type": "markdown",
   "id": "01a3caa8",
   "metadata": {},
   "source": [
    "**d)** Compute the accuracy of your model using the accuracy function defined above. Recreate your model a couple times and see how the accuracy changes.\n"
   ]
  },
  {
   "cell_type": "code",
   "execution_count": 183,
   "id": "a2612b82",
   "metadata": {},
   "outputs": [
    {
     "name": "stdout",
     "output_type": "stream",
     "text": [
      "0.5666666666666667\n"
     ]
    }
   ],
   "source": [
    "print(accuracy(predictions, targets))"
   ]
  },
  {
   "cell_type": "markdown",
   "id": "334560b6",
   "metadata": {},
   "source": [
    "# Exercise 7 - Training on real data (Optional)\n",
    "\n",
    "To be able to actually do anything useful with your neural network, you need to train it. For this, we need a cost function and a way to take the gradient of the cost function wrt. the network parameters. The following exercises guide you through taking the gradient using autograd, and updating the network parameters using the gradient. Feel free to implement gradient methods like ADAM if you finish everything.\n"
   ]
  },
  {
   "cell_type": "markdown",
   "id": "700cabe4",
   "metadata": {},
   "source": [
    "Since we are doing a classification task with multiple output classes, we use the cross-entropy loss function, which can evaluate performance on classification tasks. It sees if your prediction is \"most certain\" on the correct target.\n"
   ]
  },
  {
   "cell_type": "code",
   "execution_count": 193,
   "id": "f30e6e2c",
   "metadata": {},
   "outputs": [],
   "source": [
    "def cross_entropy(predict, target):\n",
    "    return np.sum(-target * np.log(predict))\n",
    "\n",
    "\n",
    "def cost(input, layers, activation_funcs, target):\n",
    "    predict = feed_forward_batch(input, layers, activation_funcs)\n",
    "    return cross_entropy(predict, target)"
   ]
  },
  {
   "cell_type": "markdown",
   "id": "7ea9c1a4",
   "metadata": {},
   "source": [
    "To improve our network on whatever prediction task we have given it, we need to use a sensible cost function, take the gradient of that cost function with respect to our network parameters, the weights and biases, and then update the weights and biases using these gradients. To clarify, we need to find and use these\n",
    "\n",
    "$$\n",
    "\\frac{\\partial C}{\\partial W}, \\frac{\\partial C}{\\partial b}\n",
    "$$\n"
   ]
  },
  {
   "cell_type": "markdown",
   "id": "6c753e3b",
   "metadata": {},
   "source": [
    "Now we need to compute these gradients. This is pretty hard to do for a neural network, we will use most of next week to do this, but we can also use autograd to just do it for us, which is what we always do in practice. With the code cell below, we create a function which takes all of these gradients for us.\n"
   ]
  },
  {
   "cell_type": "code",
   "execution_count": 194,
   "id": "56bef776",
   "metadata": {},
   "outputs": [],
   "source": [
    "from autograd import grad\n",
    "\n",
    "\n",
    "gradient_func = grad(\n",
    "    cost, 1\n",
    ")  # Taking the gradient wrt. the second input to the cost function, i.e. the layers"
   ]
  },
  {
   "cell_type": "markdown",
   "id": "7b1b74bc",
   "metadata": {},
   "source": [
    "**a)** What shape should the gradient of the cost function wrt. weights and biases be?\n",
    "\n",
    "__Answer 7a):__\n",
    "The weight matrix has shape (output, input) and the tranposed weight matrix (input, output) and the bias (output). We also have that the weights and bias get updated between each layer, for instance with gradient descent such that\n",
    "\n",
    "$$W \\larr W \\eta \\frac{\\partial C}{\\partial W}$$\n",
    "\n",
    "$$b \\larr b \\eta \\frac{\\partial C}{\\partial b}$$\n",
    "\n",
    "so the gradient of the cost function with resepct to the weights have the same shape as the weights themselves and same for the bias.  As this is an element wise operation, each weight in the weight matrix gets updated, and thus the gradient must have the same shape."
   ]
  },
  {
   "cell_type": "markdown",
   "id": "866a517f",
   "metadata": {},
   "source": [
    "**b)** Use the `gradient_func` function to take the gradient of the cross entropy wrt. the weights and biases of the network. Check the shapes of what's inside. What does the `grad` func from autograd actually do?"
   ]
  },
  {
   "cell_type": "code",
   "execution_count": 195,
   "id": "841c9e87",
   "metadata": {},
   "outputs": [],
   "source": [
    "layers_grad = gradient_func(\n",
    "    inputs, layers, activation_funcs, targets\n",
    ")  # Don't change this"
   ]
  },
  {
   "cell_type": "code",
   "execution_count": 205,
   "id": "372d7418",
   "metadata": {},
   "outputs": [
    {
     "data": {
      "text/plain": [
       "array([[ 6.15771988e+00,  1.32178600e+01, -3.37513790e-01,\n",
       "         7.34124061e-01,  1.74363807e+01, -2.51379562e+01,\n",
       "        -1.56517758e+01,  6.07447280e-01],\n",
       "       [ 4.79006830e+00,  9.08693599e+00,  4.32470811e-01,\n",
       "        -6.87716375e-02,  1.07744696e+01, -1.03477489e+01,\n",
       "        -5.72754648e+00,  4.06014016e-01],\n",
       "       [ 1.19391605e+00,  3.43629089e+00, -1.52177524e+00,\n",
       "         8.51621472e-01,  6.21986863e+00, -1.43820516e+01,\n",
       "        -6.31433860e+00,  1.65571350e-01],\n",
       "       [ 9.20708882e-02,  4.71615263e-01, -6.20718974e-01,\n",
       "         2.71579813e-01,  1.35949964e+00, -2.71905548e+00,\n",
       "         6.48539782e-01,  2.28152640e-02]])"
      ]
     },
     "execution_count": 205,
     "metadata": {},
     "output_type": "execute_result"
    }
   ],
   "source": [
    "layers_grad[0][0]"
   ]
  },
  {
   "cell_type": "markdown",
   "id": "9c936fe8",
   "metadata": {},
   "source": [
    "__Answer 7b):__\n",
    "`grad(cost, 1)` finds the derivatives of the cost functions with respect to the second input of the cost function which is the layers (seen in `def_cost()`). So the return is a list tuples, where tuple entry 1 is the derivative wrt weight and tuple entry 2 the derivative wrt bias. Each tuple entry has then the same shape as the original weight and bias. The list of tuples correspond to the  input size."
   ]
  },
  {
   "cell_type": "markdown",
   "id": "adc9e9be",
   "metadata": {},
   "source": [
    "**c)** Finish the `train_network` function.\n"
   ]
  },
  {
   "cell_type": "code",
   "execution_count": 219,
   "id": "6e4d38d3",
   "metadata": {},
   "outputs": [],
   "source": [
    "def train_network(\n",
    "    inputs, layers, activation_funcs, targets, learning_rate=0.001, epochs=100\n",
    "):\n",
    "    new_layers = []\n",
    "    for i in range(epochs):\n",
    "        layers_grad = gradient_func(inputs, layers, activation_funcs, targets)\n",
    "        for (W, b), (W_g, b_g) in zip(layers, layers_grad):\n",
    "            W -= learning_rate*W_g\n",
    "            b -= learning_rate*b_g\n",
    "        \n",
    "            new_layers.append((W, b))\n",
    "\n",
    "    return new_layers"
   ]
  },
  {
   "cell_type": "markdown",
   "id": "2f65d663",
   "metadata": {},
   "source": [
    "**d)** What do we call the gradient method used above?\n",
    "\n",
    "__Answer d):__\n",
    "This is calld basic gradient descent."
   ]
  },
  {
   "cell_type": "markdown",
   "id": "7059dd8c",
   "metadata": {},
   "source": [
    "**e)** Train your network and see how the accuracy changes! Make a plot if you want.\n"
   ]
  },
  {
   "cell_type": "code",
   "execution_count": 222,
   "id": "5027c7a5",
   "metadata": {},
   "outputs": [
    {
     "name": "stdout",
     "output_type": "stream",
     "text": [
      "Final accuracy: 0.68\n"
     ]
    }
   ],
   "source": [
    "trained_layers = train_network(inputs, layers, activation_funcs, targets, learning_rate=0.01, epochs=1000)\n",
    "\n",
    "predictions = feed_forward_batch(inputs, trained_layers, activation_funcs)\n",
    "print(\"Final accuracy:\", accuracy(predictions, targets))"
   ]
  },
  {
   "cell_type": "markdown",
   "id": "3bc77016",
   "metadata": {},
   "source": [
    "**f)** How high of an accuracy is it possible to acheive with a neural network on this dataset, if we use the whole thing as training data?\n"
   ]
  }
 ],
 "metadata": {
  "kernelspec": {
   "display_name": "exercises",
   "language": "python",
   "name": "python3"
  },
  "language_info": {
   "codemirror_mode": {
    "name": "ipython",
    "version": 3
   },
   "file_extension": ".py",
   "mimetype": "text/x-python",
   "name": "python",
   "nbconvert_exporter": "python",
   "pygments_lexer": "ipython3",
   "version": "3.13.5"
  }
 },
 "nbformat": 4,
 "nbformat_minor": 5
}
