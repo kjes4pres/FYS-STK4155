{
 "cells": [
  {
   "cell_type": "markdown",
   "metadata": {},
   "source": [
    "# Exercises week 42\n",
    "\n",
    "**Kjersti Stangeland**\n",
    "**October 13-17, 2025**\n",
    "\n",
    "Date: **Deadline is Friday October 17 at midnight**\n"
   ]
  },
  {
   "cell_type": "markdown",
   "metadata": {},
   "source": [
    "# Overarching aims of the exercises this week\n",
    "\n",
    "The aim of the exercises this week is to train the neural network you implemented last week.\n",
    "\n",
    "To train neural networks, we use gradient descent, since there is no analytical expression for the optimal parameters. This means you will need to compute the gradient of the cost function wrt. the network parameters. And then you will need to implement some gradient method.\n",
    "\n",
    "You will begin by computing gradients for a network with one layer, then two layers, then any number of layers. Keeping track of the shapes and doing things step by step will be very important this week.\n",
    "\n",
    "We recommend that you do the exercises this week by editing and running this notebook file, as it includes some checks along the way that you have implemented the neural network correctly, and running small parts of the code at a time will be important for understanding the methods. If you have trouble running a notebook, you can run this notebook in google colab instead(https://colab.research.google.com/drive/1FfvbN0XlhV-lATRPyGRTtTBnJr3zNuHL#offline=true&sandboxMode=true), though we recommend that you set up VSCode and your python environment to run code like this locally.\n",
    "\n",
    "First, some setup code that you will need.\n"
   ]
  },
  {
   "cell_type": "code",
   "execution_count": 122,
   "metadata": {},
   "outputs": [],
   "source": [
    "import autograd.numpy as np  # We need to use this numpy wrapper to make automatic differentiation work later\n",
    "from autograd import grad, elementwise_grad\n",
    "from sklearn import datasets\n",
    "import matplotlib.pyplot as plt\n",
    "from sklearn.metrics import accuracy_score\n",
    "\n",
    "\n",
    "# Defining some activation functions\n",
    "def ReLU(z):\n",
    "    return np.where(z > 0, z, 0)\n",
    "\n",
    "\n",
    "# Derivative of the ReLU function\n",
    "def ReLU_der(z):\n",
    "    return np.where(z > 0, 1, 0)\n",
    "\n",
    "\n",
    "def sigmoid(z):\n",
    "    return 1 / (1 + np.exp(-z))\n",
    "\n",
    "\n",
    "def mse(predict, target):\n",
    "    return np.mean((predict - target) ** 2)"
   ]
  },
  {
   "cell_type": "markdown",
   "metadata": {},
   "source": [
    "# Exercise 1 - Understand the feed forward pass\n",
    "\n",
    "**a)** Complete last weeks' exercises if you haven't already (recommended).\n"
   ]
  },
  {
   "cell_type": "markdown",
   "metadata": {},
   "source": [
    "# Exercise 2 - Gradient with one layer using autograd\n",
    "\n",
    "For the first few exercises, we will not use batched inputs. Only a single input vector is passed through the layer at a time.\n",
    "\n",
    "In this exercise you will compute the gradient of a single layer. You only need to change the code in the cells right below an exercise, the rest works out of the box. Feel free to make changes and see how stuff works though!\n",
    "\n",
    "**a)** If the weights and bias of a layer has shapes (10, 4) and (10), what will the shapes of the gradients of the cost function wrt. these weights and this bias be?\n"
   ]
  },
  {
   "cell_type": "markdown",
   "metadata": {},
   "source": [
    "__Answer 2a):__\n",
    "\n",
    "From the lecture notes:\n",
    "\n",
    "$\\frac{\\partial C}{\\partial w_{jk}^l} = \\delta_j^l \\cdot a_k^{l-1}$, with: $\\delta_j^l = \\frac{\\partial C}{\\partial a_j^l} \\cdot \\sigma '$,  which is the gradient for the weigth $w_{jk}^l$, which corresponds to layer $l$ and node $jk$. For the bias, the gradient is $\\frac{\\partial C}{\\partial b_j^l} = \\delta_j^l$, where: $\\delta_j^l = \\frac{\\partial C}{\\partial a_j^l} \\cdot \\sigma '$. \n",
    "\n",
    "With weights with shape (10,4) and bias (10,), then the input is (4,). So $z = W*x + b$ has shape (10,), and then the activation function $a = \\sigma(z)$ has also shape (10,). So the gradient of the bias must also have shape (10,). The gradient of the weight has shape (10, 4). \n",
    "\n",
    "Say that j is the number of nodes, k is the number of inputs, then this reasoning makes sense at least in my brain. "
   ]
  },
  {
   "cell_type": "markdown",
   "metadata": {},
   "source": [
    "**b)** Complete the feed_forward_one_layer function. It should use the sigmoid activation function. Also define the weigth and bias with the correct shapes.\n"
   ]
  },
  {
   "cell_type": "code",
   "execution_count": 123,
   "metadata": {},
   "outputs": [],
   "source": [
    "def feed_forward_one_layer(W, b, x):\n",
    "    z = W @ x + b\n",
    "    a = sigmoid(z)\n",
    "    return a\n",
    "\n",
    "\n",
    "def cost_one_layer(W, b, x, target):\n",
    "    predict = feed_forward_one_layer(W, b, x)\n",
    "    return mse(predict, target)\n",
    "\n",
    "\n",
    "x = np.random.rand(2)\n",
    "target = np.random.rand(3)\n",
    "\n",
    "W = np.random.randn(3, 2)\n",
    "b = np.random.randn(3)"
   ]
  },
  {
   "cell_type": "markdown",
   "metadata": {},
   "source": [
    "**c)** Compute the gradient of the cost function wrt. the weigth and bias by running the cell below. You will not need to change anything, just make sure it runs by defining things correctly in the cell above. This code uses the autograd package which uses backprogagation to compute the gradient!\n"
   ]
  },
  {
   "cell_type": "code",
   "execution_count": 124,
   "metadata": {},
   "outputs": [
    {
     "name": "stdout",
     "output_type": "stream",
     "text": [
      "[[ 0.02138296  0.01262527]\n",
      " [-0.02122727 -0.01253334]\n",
      " [ 0.00959348  0.00566434]] [ 0.06176618 -0.06131646  0.02771145]\n"
     ]
    }
   ],
   "source": [
    "autograd_one_layer = grad(cost_one_layer, [0, 1])\n",
    "W_g, b_g = autograd_one_layer(W, b, x, target)\n",
    "print(W_g, b_g)"
   ]
  },
  {
   "cell_type": "markdown",
   "metadata": {},
   "source": [
    "# Exercise 3 - Gradient with one layer writing backpropagation by hand\n",
    "\n",
    "Before you use the gradient you found using autograd, you will have to find the gradient \"manually\", to better understand how the backpropagation computation works. To do backpropagation \"manually\", you will need to write out expressions for many derivatives along the computation.\n"
   ]
  },
  {
   "cell_type": "markdown",
   "metadata": {},
   "source": [
    "We want to find the gradient of the cost function wrt. the weight and bias. This is quite hard to do directly, so we instead use the chain rule to combine multiple derivatives which are easier to compute.\n",
    "\n",
    "$$\n",
    "\\frac{dC}{dW} = \\frac{dC}{da}\\frac{da}{dz}\\frac{dz}{dW}\n",
    "$$\n",
    "\n",
    "$$\n",
    "\\frac{dC}{db} = \\frac{dC}{da}\\frac{da}{dz}\\frac{dz}{db}\n",
    "$$\n"
   ]
  },
  {
   "cell_type": "markdown",
   "metadata": {},
   "source": [
    "**a)** Which intermediary results can be reused between the two expressions?\n"
   ]
  },
  {
   "cell_type": "markdown",
   "metadata": {},
   "source": [
    "__Answer 3a):__\n",
    "The gradient of the cost function with respect to the weights:\n",
    "$$\n",
    "\\frac{dC}{dW} = \\frac{dC}{da}\\frac{da}{dz}\\frac{dz}{dW}\n",
    "$$\n",
    "\n",
    "We have:\n",
    "* $z^l = W^l*a^{l-1} + b^l$\n",
    "* $a^l = \\sigma(z^l)$\n",
    "\n",
    "So:\n",
    "* $\\frac{\\partial z^l}{\\partial W^l} = a^{l-1}$\n",
    "* $\\frac{\\partial z^l}{\\partial a^{l-1}} = W^l$\n",
    "\n",
    "In the case of Sigmoid being the activation function, we then have:\n",
    "* $\\sigma(z) = \\frac{1}{1 + e^{-z}}$\n",
    "* $\\frac{\\partial a^l}{\\partial z^l} = \\sigma ' = \\sigma(z^l) \\cdot (1 - \\sigma(z^l)) = a^l(1 - a^l)$\n",
    "\n",
    "In the case of MSE being the cost function, we have:\n",
    "* $C = \\frac{1}{2} (a^l - y)^2 = \\frac{1}{2} ((a^l)^2 - 2 a^ly + y^2)$\n",
    "* $\\frac{\\partial C}{\\partial a^l} = (a^l - y)$\n",
    "\n",
    "Then: $\\frac{dC}{dW} = (a^l - y) \\cdot a^l(1 - a^l) \\cdot a^{l-1}$\n",
    "\n",
    "And we can define: $\\delta^l = \\frac{\\partial C}{\\partial a^l} \\cdot \\sigma '$, which yields: $\\frac{dC}{dW} = \\delta^l \\cdot a^{l-1}$ \n",
    "\n",
    "\n",
    "Now, for the gradient of the bias:\n",
    "\n",
    "$$\n",
    "\\frac{dC}{db} = \\frac{dC}{da}\\frac{da}{dz}\\frac{dz}{db}\n",
    "$$\n",
    "\n",
    "Using what we already found, we have: $\\frac{dz}{db} = 1$, which leaves us with: $\\frac{dC}{db} = \\delta^l$ "
   ]
  },
  {
   "cell_type": "markdown",
   "metadata": {},
   "source": [
    "**b)** What is the derivative of the cost wrt. the final activation? You can use the autograd calculation to make sure you get the correct result. Remember that we compute the mean in mse.\n"
   ]
  },
  {
   "cell_type": "code",
   "execution_count": 125,
   "metadata": {},
   "outputs": [
    {
     "name": "stdout",
     "output_type": "stream",
     "text": [
      "[ 0.28648394 -0.27523393  0.13254047]\n",
      "[ 0.28648394 -0.27523393  0.13254047]\n"
     ]
    }
   ],
   "source": [
    "z = W @ x + b\n",
    "a = sigmoid(z)\n",
    "\n",
    "predict = a\n",
    "\n",
    "def mse_der(predict, target):\n",
    "    return 2*(predict - target)/predict.size\n",
    "\n",
    "print(mse_der(predict, target))\n",
    "\n",
    "cost_autograd = grad(mse, 0)\n",
    "print(cost_autograd(predict, target))"
   ]
  },
  {
   "cell_type": "markdown",
   "metadata": {},
   "source": [
    "**c)** What is the expression for the derivative of the sigmoid activation function? You can use the autograd calculation to make sure you get the correct result.\n"
   ]
  },
  {
   "cell_type": "code",
   "execution_count": 126,
   "metadata": {},
   "outputs": [
    {
     "name": "stdout",
     "output_type": "stream",
     "text": [
      "[0.21560084 0.22277944 0.20907917]\n",
      "[0.21560084 0.22277944 0.20907917]\n"
     ]
    }
   ],
   "source": [
    "def sigmoid_der(z):\n",
    "    return sigmoid(z) * (1 - sigmoid(z))\n",
    "\n",
    "\n",
    "print(sigmoid_der(z))\n",
    "\n",
    "sigmoid_autograd = elementwise_grad(sigmoid, 0)\n",
    "print(sigmoid_autograd(z))"
   ]
  },
  {
   "cell_type": "markdown",
   "metadata": {},
   "source": [
    "**d)** Using the two derivatives you just computed, compute this intermetidary gradient you will use later:\n",
    "\n",
    "$$\n",
    "\\frac{dC}{dz} = \\frac{dC}{da}\\frac{da}{dz}\n",
    "$$\n"
   ]
  },
  {
   "cell_type": "code",
   "execution_count": 127,
   "metadata": {},
   "outputs": [],
   "source": [
    "dC_da = mse_der(predict, target)\n",
    "dC_dz = dC_da * sigmoid_der(z)"
   ]
  },
  {
   "cell_type": "markdown",
   "metadata": {},
   "source": [
    "**e)** What is the derivative of the intermediary z wrt. the weight and bias? What should the shapes be? The one for the weights is a little tricky, it can be easier to play around in the next exercise first. You can also try computing it with autograd to get a hint.\n"
   ]
  },
  {
   "cell_type": "markdown",
   "metadata": {},
   "source": [
    "__Answer 3e):__\n",
    "$$\n",
    "\\frac{dC}{dz} = \\frac{dC}{da}\\frac{da}{dz}\n",
    "$$\n",
    "\n",
    "This is the cost function derivated with respect to z, which is the expression which will go through the activation function of the layer and afterwards be sent as output to the next layer.\n",
    "\n",
    "$$\n",
    "\\frac{dC}{dz} = \\frac{dC}{da}\\frac{da}{dz}\n",
    "$$\n",
    "\n",
    "$$\n",
    "= \\frac{2}{n}(a^l - y) * \\sigma(z^l)*(1 - \\sigma(z^l))\n",
    "$$\n",
    "\n",
    "(I dont really understand the question, isnt this what was in 3a?)"
   ]
  },
  {
   "cell_type": "markdown",
   "metadata": {},
   "source": [
    "**f)** Now combine the expressions you have worked with so far to compute the gradients! Note that you always need to do a feed forward pass while saving the zs and as before you do backpropagation, as they are used in the derivative expressions\n"
   ]
  },
  {
   "cell_type": "code",
   "execution_count": 128,
   "metadata": {},
   "outputs": [
    {
     "name": "stdout",
     "output_type": "stream",
     "text": [
      "[[ 0.02138296  0.01262527]\n",
      " [-0.02122727 -0.01253334]\n",
      " [ 0.00959348  0.00566434]] [ 0.06176618 -0.06131646  0.02771145]\n"
     ]
    }
   ],
   "source": [
    "dC_da = (2/predict.size)*(predict - target)\n",
    "dC_dz = dC_da * sigmoid_der(z)\n",
    "dC_dW = np.outer(dC_dz, x)\n",
    "dC_db = dC_dz\n",
    "\n",
    "print(dC_dW, dC_db)"
   ]
  },
  {
   "cell_type": "markdown",
   "metadata": {},
   "source": [
    "You should get the same results as with autograd.\n"
   ]
  },
  {
   "cell_type": "code",
   "execution_count": 129,
   "metadata": {},
   "outputs": [
    {
     "name": "stdout",
     "output_type": "stream",
     "text": [
      "[[ 0.02138296  0.01262527]\n",
      " [-0.02122727 -0.01253334]\n",
      " [ 0.00959348  0.00566434]] [ 0.06176618 -0.06131646  0.02771145]\n"
     ]
    }
   ],
   "source": [
    "W_g, b_g = autograd_one_layer(W, b, x, target)\n",
    "print(W_g, b_g)"
   ]
  },
  {
   "cell_type": "markdown",
   "metadata": {},
   "source": [
    "# Exercise 4 - Gradient with two layers writing backpropagation by hand\n"
   ]
  },
  {
   "cell_type": "markdown",
   "metadata": {},
   "source": [
    "Now that you have implemented backpropagation for one layer, you have found most of the expressions you will need for more layers. Let's move up to two layers.\n"
   ]
  },
  {
   "cell_type": "code",
   "execution_count": 130,
   "metadata": {},
   "outputs": [],
   "source": [
    "x = np.random.rand(2)\n",
    "target = np.random.rand(4)\n",
    "\n",
    "W1 = np.random.rand(3, 2)\n",
    "b1 = np.random.rand(3)\n",
    "\n",
    "W2 = np.random.rand(4, 3)\n",
    "b2 = np.random.rand(4)\n",
    "\n",
    "layers = [(W1, b1), (W2, b2)]"
   ]
  },
  {
   "cell_type": "code",
   "execution_count": 131,
   "metadata": {},
   "outputs": [],
   "source": [
    "z1 = W1 @ x + b1\n",
    "a1 = sigmoid(z1)\n",
    "z2 = W2 @ a1 + b2\n",
    "a2 = sigmoid(z2)"
   ]
  },
  {
   "cell_type": "markdown",
   "metadata": {},
   "source": [
    "We begin by computing the gradients of the last layer, as the gradients must be propagated backwards from the end.\n",
    "\n",
    "**a)** Compute the gradients of the last layer, just like you did the single layer in the previous exercise.\n"
   ]
  },
  {
   "cell_type": "code",
   "execution_count": 132,
   "metadata": {},
   "outputs": [],
   "source": [
    "dC_da2 = (2/a2.size)*(a2 - target)\n",
    "dC_dz2 = dC_da2 * sigmoid_der(z2)\n",
    "dC_dW2 = np.outer(dC_dz2, a1)\n",
    "dC_db2 = dC_dz2"
   ]
  },
  {
   "cell_type": "markdown",
   "metadata": {},
   "source": [
    "To find the derivative of the cost wrt. the activation of the first layer, we need a new expression, the one furthest to the right in the following.\n",
    "\n",
    "$$\n",
    "\\frac{dC}{da_1} = \\frac{dC}{dz_2}\\frac{dz_2}{da_1}\n",
    "$$\n",
    "\n",
    "**b)** What is the derivative of the second layer intermetiate wrt. the first layer activation? (First recall how you compute $z_2$)\n",
    "\n",
    "$$\n",
    "\\frac{dz_2}{da_1}\n",
    "$$\n"
   ]
  },
  {
   "cell_type": "markdown",
   "metadata": {},
   "source": [
    "__Answer 4b):__\n",
    "$z_2 = W_2*a_1 + b_2$, so:\n",
    "\n",
    "$$\\frac{dz_2}{da_1} = W_2$$"
   ]
  },
  {
   "cell_type": "markdown",
   "metadata": {},
   "source": [
    "**c)** Use this expression, together with expressions which are equivelent to ones for the last layer to compute all the derivatives of the first layer.\n",
    "\n",
    "$$\n",
    "\\frac{dC}{dW_1} = \\frac{dC}{da_1}\\frac{da_1}{dz_1}\\frac{dz_1}{dW_1}\n",
    "$$\n",
    "\n",
    "$$\n",
    "\\frac{dC}{db_1} = \\frac{dC}{da_1}\\frac{da_1}{dz_1}\\frac{dz_1}{db_1}\n",
    "$$\n"
   ]
  },
  {
   "cell_type": "code",
   "execution_count": 133,
   "metadata": {},
   "outputs": [],
   "source": [
    "dC_da1 = W2.T @ dC_dz2 \n",
    "dC_dz1 = dC_da1 * sigmoid_der(z1)\n",
    "dC_dW1 = np.outer(dC_dz1, x)\n",
    "dC_db1 = dC_dz1"
   ]
  },
  {
   "cell_type": "code",
   "execution_count": 134,
   "metadata": {},
   "outputs": [
    {
     "name": "stdout",
     "output_type": "stream",
     "text": [
      "[[0.00941925 0.00689284]\n",
      " [0.00657652 0.00481258]\n",
      " [0.00802484 0.00587243]] [0.01203051 0.0083997  0.01024954]\n",
      "[[0.03138038 0.03263823 0.03061599]\n",
      " [0.02292424 0.02384314 0.02236584]\n",
      " [0.02538801 0.02640567 0.02476959]\n",
      " [0.00474303 0.00493315 0.00462749]] [0.03985282 0.02911359 0.03224256 0.00602361]\n"
     ]
    }
   ],
   "source": [
    "print(dC_dW1, dC_db1)\n",
    "print(dC_dW2, dC_db2)"
   ]
  },
  {
   "cell_type": "markdown",
   "metadata": {},
   "source": [
    "**d)** Make sure you got the same gradient as the following code which uses autograd to do backpropagation.\n"
   ]
  },
  {
   "cell_type": "code",
   "execution_count": 135,
   "metadata": {},
   "outputs": [],
   "source": [
    "def feed_forward_two_layers(layers, x):\n",
    "    W1, b1 = layers[0]\n",
    "    z1 = W1 @ x + b1\n",
    "    a1 = sigmoid(z1)\n",
    "\n",
    "    W2, b2 = layers[1]\n",
    "    z2 = W2 @ a1 + b2\n",
    "    a2 = sigmoid(z2)\n",
    "\n",
    "    return a2"
   ]
  },
  {
   "cell_type": "code",
   "execution_count": 136,
   "metadata": {},
   "outputs": [
    {
     "data": {
      "text/plain": [
       "[(array([[0.00941925, 0.00689284],\n",
       "         [0.00657652, 0.00481258],\n",
       "         [0.00802484, 0.00587243]]),\n",
       "  array([0.01203051, 0.0083997 , 0.01024954])),\n",
       " (array([[0.03138038, 0.03263823, 0.03061599],\n",
       "         [0.02292424, 0.02384314, 0.02236584],\n",
       "         [0.02538801, 0.02640567, 0.02476959],\n",
       "         [0.00474303, 0.00493315, 0.00462749]]),\n",
       "  array([0.03985282, 0.02911359, 0.03224256, 0.00602361]))]"
      ]
     },
     "execution_count": 136,
     "metadata": {},
     "output_type": "execute_result"
    }
   ],
   "source": [
    "def cost_two_layers(layers, x, target):\n",
    "    predict = feed_forward_two_layers(layers, x)\n",
    "    return mse(predict, target)\n",
    "\n",
    "grad_two_layers = grad(cost_two_layers, 0)\n",
    "g = grad_two_layers(layers, x, target)\n",
    "g"
   ]
  },
  {
   "cell_type": "code",
   "execution_count": 137,
   "metadata": {},
   "outputs": [
    {
     "name": "stdout",
     "output_type": "stream",
     "text": [
      "[[0.00941925 0.00689284]\n",
      " [0.00657652 0.00481258]\n",
      " [0.00802484 0.00587243]]\n",
      "\n",
      "[0.01203051 0.0083997  0.01024954]\n"
     ]
    }
   ],
   "source": [
    "print(dC_dW1)\n",
    "print()\n",
    "print(dC_db1)"
   ]
  },
  {
   "cell_type": "code",
   "execution_count": 138,
   "metadata": {},
   "outputs": [
    {
     "name": "stdout",
     "output_type": "stream",
     "text": [
      "[[0.03138038 0.03263823 0.03061599]\n",
      " [0.02292424 0.02384314 0.02236584]\n",
      " [0.02538801 0.02640567 0.02476959]\n",
      " [0.00474303 0.00493315 0.00462749]]\n",
      "\n",
      "[0.03985282 0.02911359 0.03224256 0.00602361]\n"
     ]
    }
   ],
   "source": [
    "print(dC_dW2)\n",
    "print()\n",
    "print(dC_db2)"
   ]
  },
  {
   "cell_type": "markdown",
   "metadata": {},
   "source": [
    "**e)** How would you use the gradient from this layer to compute the gradient of an even earlier layer? Would the expressions be any different?\n"
   ]
  },
  {
   "cell_type": "markdown",
   "metadata": {},
   "source": [
    "__Answer 4e):__\n",
    "In back propagation, to find the gradients of an earlier layer, the chain rule applies. So the method and qlgorithm is similar, but the length of the expressions increase when using the chain rule. It evolves because the input to one layer is given by the output of an earlier layer, and such all layers connect."
   ]
  },
  {
   "cell_type": "markdown",
   "metadata": {},
   "source": [
    "# Exercise 5 - Gradient with any number of layers writing backpropagation by hand\n"
   ]
  },
  {
   "cell_type": "markdown",
   "metadata": {},
   "source": [
    "Well done on getting this far! Now it's time to compute the gradient with any number of layers.\n",
    "\n",
    "First, some code from the general neural network code from last week. Note that we are still sending in one input vector at a time. We will change it to use batched inputs later.\n"
   ]
  },
  {
   "cell_type": "code",
   "execution_count": 139,
   "metadata": {},
   "outputs": [],
   "source": [
    "def create_layers(network_input_size, layer_output_sizes):\n",
    "    layers = []\n",
    "\n",
    "    i_size = network_input_size\n",
    "    for layer_output_size in layer_output_sizes:\n",
    "        W = np.random.randn(layer_output_size, i_size)\n",
    "        b = np.random.randn(layer_output_size)\n",
    "        layers.append((W, b))\n",
    "\n",
    "        i_size = layer_output_size\n",
    "    return layers\n",
    "\n",
    "\n",
    "def feed_forward(input, layers, activation_funcs):\n",
    "    a = input\n",
    "    for (W, b), activation_func in zip(layers, activation_funcs):\n",
    "        z = W @ a + b\n",
    "        a = activation_func(z)\n",
    "    return a\n",
    "\n",
    "\n",
    "def cost(layers, input, activation_funcs, target):\n",
    "    predict = feed_forward(input, layers, activation_funcs)\n",
    "    return mse(predict, target)"
   ]
  },
  {
   "cell_type": "markdown",
   "metadata": {},
   "source": [
    "You might have already have noticed a very important detail in backpropagation: You need the values from the forward pass to compute all the gradients! The feed forward method above is great for efficiency and for using autograd, as it only cares about computing the final output, but now we need to also save the results along the way.\n",
    "\n",
    "Here is a function which does that for you.\n"
   ]
  },
  {
   "cell_type": "code",
   "execution_count": 140,
   "metadata": {},
   "outputs": [],
   "source": [
    "def feed_forward_saver(input, layers, activation_funcs):\n",
    "    layer_inputs = []\n",
    "    zs = []\n",
    "    a = input\n",
    "    for (W, b), activation_func in zip(layers, activation_funcs):\n",
    "        layer_inputs.append(a)\n",
    "        z = W @ a + b\n",
    "        a = activation_func(z)\n",
    "\n",
    "        zs.append(z)\n",
    "\n",
    "    return layer_inputs, zs, a"
   ]
  },
  {
   "cell_type": "markdown",
   "metadata": {},
   "source": [
    "**a)** Now, complete the backpropagation function so that it returns the gradient of the cost function wrt. all the weigths and biases. Use the autograd calculation below to make sure you get the correct answer.\n"
   ]
  },
  {
   "cell_type": "code",
   "execution_count": 141,
   "metadata": {},
   "outputs": [],
   "source": [
    "def backpropagation(\n",
    "    input, layers, activation_funcs, target, activation_ders, cost_der=mse_der\n",
    "):\n",
    "    layer_inputs, zs, predict = feed_forward_saver(input, layers, activation_funcs)\n",
    "\n",
    "    layer_grads = [() for layer in layers]\n",
    "\n",
    "    # We loop over the layers, from the last to the first\n",
    "    for i in reversed(range(len(layers))):\n",
    "        layer_input, z, activation_der = layer_inputs[i], zs[i], activation_ders[i]\n",
    "\n",
    "        if i == len(layers) - 1:\n",
    "            # For last layer we use cost derivative as dC_da(L) can be computed directly\n",
    "            dC_da = cost_der(predict, target)\n",
    "        else:\n",
    "            # For other layers we build on previous z derivative, as dC_da(i) = dC_dz(i+1) * dz(i+1)_da(i)\n",
    "            (W, b) = layers[i + 1]\n",
    "            dC_da = dC_dz @ W\n",
    "\n",
    "        dC_dz = dC_da * activation_der(z)\n",
    "        dC_dW = np.outer(dC_dz, layer_input)\n",
    "        dC_db = dC_dz\n",
    "\n",
    "        layer_grads[i] = (dC_dW, dC_db)\n",
    "\n",
    "    return layer_grads"
   ]
  },
  {
   "cell_type": "code",
   "execution_count": 142,
   "metadata": {},
   "outputs": [],
   "source": [
    "network_input_size = 2\n",
    "layer_output_sizes = [3, 4]\n",
    "activation_funcs = [sigmoid, ReLU]\n",
    "activation_ders = [sigmoid_der, ReLU_der]\n",
    "\n",
    "layers = create_layers(network_input_size, layer_output_sizes)\n",
    "\n",
    "x = np.random.rand(network_input_size)\n",
    "target = np.random.rand(4)"
   ]
  },
  {
   "cell_type": "code",
   "execution_count": 143,
   "metadata": {},
   "outputs": [
    {
     "name": "stdout",
     "output_type": "stream",
     "text": [
      "dC/dW for layer 1:\n",
      "[[ 0.0001293   0.00200097]\n",
      " [-0.00271749 -0.04205568]\n",
      " [ 0.00339058  0.05247238]]\n",
      "dC/db for layer 1:\n",
      "[ 0.00268642 -0.05646207  0.07044707]\n",
      "dC/dW for layer 2:\n",
      "[[-0.         -0.         -0.        ]\n",
      " [-0.         -0.         -0.        ]\n",
      " [ 0.02357543  0.04972076  0.07664738]\n",
      " [ 0.08242759  0.17384038  0.26798484]]\n",
      "dC/db for layer 2:\n",
      "[-0.         -0.          0.14253015  0.49833302]\n"
     ]
    }
   ],
   "source": [
    "layer_grads = backpropagation(x, layers, activation_funcs, target, activation_ders)\n",
    "print('dC/dW for layer 1:')\n",
    "print(layer_grads[0][0])\n",
    "print('dC/db for layer 1:')\n",
    "print(layer_grads[0][1])\n",
    "print('dC/dW for layer 2:')\n",
    "print(layer_grads[1][0])\n",
    "print('dC/db for layer 2:')\n",
    "print(layer_grads[1][1])"
   ]
  },
  {
   "cell_type": "code",
   "execution_count": 144,
   "metadata": {},
   "outputs": [
    {
     "name": "stdout",
     "output_type": "stream",
     "text": [
      "dC/dW for layer 1:\n",
      "[[ 0.0001293   0.00200097]\n",
      " [-0.00271749 -0.04205568]\n",
      " [ 0.00339058  0.05247238]]\n",
      "dC/db for layer 1:\n",
      "[ 0.00268642 -0.05646207  0.07044707]\n",
      "dC/dW for layer 2:\n",
      "[[0.         0.         0.        ]\n",
      " [0.         0.         0.        ]\n",
      " [0.02357543 0.04972076 0.07664738]\n",
      " [0.08242759 0.17384038 0.26798484]]\n",
      "dC/db for layer 2:\n",
      "[0.         0.         0.14253015 0.49833302]\n"
     ]
    }
   ],
   "source": [
    "cost_grad = grad(cost, 0)\n",
    "g = cost_grad(layers, x, [sigmoid, ReLU], target)\n",
    "\n",
    "print('dC/dW for layer 1:')\n",
    "print(g[0][0])\n",
    "print('dC/db for layer 1:')\n",
    "print(g[0][1])\n",
    "print('dC/dW for layer 2:')\n",
    "print(g[1][0])\n",
    "print('dC/db for layer 2:')\n",
    "print(g[1][1])"
   ]
  },
  {
   "cell_type": "markdown",
   "metadata": {},
   "source": [
    "# Exercise 6 - Batched inputs\n",
    "\n",
    "Make new versions of all the functions in exercise 5 which now take batched inputs instead. See last weeks exercise 5 for details on how to batch inputs to neural networks. You will also need to update the backpropogation function.\n"
   ]
  },
  {
   "cell_type": "code",
   "execution_count": null,
   "metadata": {},
   "outputs": [],
   "source": [
    "def create_layers_batch(network_input_size, layer_output_sizes):\n",
    "    layers = []\n",
    "    i_size = network_input_size\n",
    "\n",
    "    for layer_output_size in layer_output_sizes:\n",
    "        W = np.random.randn(i_size, layer_output_size)\n",
    "        b = np.random.randn(layer_output_size, 1)\n",
    "        layers.append((W, b))\n",
    "\n",
    "        i_size = layer_output_size\n",
    "    return layers\n",
    "\n",
    "\n",
    "def feed_forward_batch(inputs, layers, activation_funcs):\n",
    "    a = inputs\n",
    "    for (W, b), activation_func in zip(layers, activation_funcs):\n",
    "        z = W.T @ a + b\n",
    "        a = activation_func(z)\n",
    "    return a\n",
    "\n",
    "def feed_forward_saver_batch(inputs, layers, activation_funcs):\n",
    "    layer_inputs = []\n",
    "    zs = []\n",
    "    a = inputs\n",
    "    for (W, b), activation_func in zip(layers, activation_funcs):\n",
    "        layer_inputs.append(a)\n",
    "        z = W.T @ a + b\n",
    "        zs.append(z)\n",
    "        a = activation_func(z)\n",
    "    return layer_inputs, zs, a\n",
    "\n",
    "\n",
    "def cost_batch(layers, inputs, activation_funcs, target):\n",
    "    predictions = feed_forward_batch(inputs, layers, activation_funcs)\n",
    "    mse_per_sample = np.mean((predictions - target) ** 2, axis=0)\n",
    "    return mse_per_sample\n",
    "\n",
    "\n",
    "def backpropagation_batch(\n",
    "    inputs, layers, activation_funcs, target, activation_ders, cost_der=mse_der\n",
    "):\n",
    "    layer_inputs, zs, predictions = feed_forward_saver_batch(inputs, layers, activation_funcs)\n",
    "    batch_size = inputs.shape[1]\n",
    "\n",
    "    layer_grads = [() for l in layers]\n",
    "\n",
    "    # Loop over layers backward\n",
    "    for i in reversed(range(len(layers))):\n",
    "        layer_input, z, activation_der = layer_inputs[i], zs[i], activation_ders[i]\n",
    "\n",
    "        if i == len(layers) - 1:\n",
    "            # Last layer: derivative of cost w.r.t activation\n",
    "            dC_da = cost_der(predictions, target)  # shape: (output_size, batch_size)\n",
    "        else:\n",
    "            W_next, b_next = layers[i + 1]\n",
    "            dC_da = W_next @ dC_dz  \n",
    "\n",
    "        dC_dz = dC_da * activation_der(z)\n",
    "        dC_dW = (layer_input @ dC_dz.T) / batch_size\n",
    "        dC_db = np.mean(dC_dz, axis=1, keepdims=True)\n",
    "\n",
    "        layer_grads[i] = (dC_dW, dC_db)\n",
    "\n",
    "    return layer_grads"
   ]
  },
  {
   "cell_type": "code",
   "execution_count": 146,
   "metadata": {},
   "outputs": [],
   "source": [
    "batch_size = 10\n",
    "\n",
    "network_input_size = 2\n",
    "layer_output_sizes = [3, 4]\n",
    "activation_funcs = [sigmoid, ReLU]\n",
    "activation_ders = [sigmoid_der, ReLU_der]\n",
    "\n",
    "layers = create_layers_batch(network_input_size, layer_output_sizes)\n",
    "\n",
    "x = np.random.rand(network_input_size, batch_size)\n",
    "target = np.random.rand(4, batch_size)"
   ]
  },
  {
   "cell_type": "code",
   "execution_count": 147,
   "metadata": {},
   "outputs": [
    {
     "name": "stdout",
     "output_type": "stream",
     "text": [
      "dC/dW for layer 1:\n",
      "[[0.01171041 0.01632465 0.00163746]\n",
      " [0.00908787 0.01474151 0.00148492]]\n",
      "dC/db for layer 1:\n",
      "[[0.01818251]\n",
      " [0.02461787]\n",
      " [0.00271486]]\n",
      "dC/dW for layer 2:\n",
      "[[0.         0.         0.         0.06821137]\n",
      " [0.         0.         0.         0.04162008]\n",
      " [0.         0.         0.         0.01149188]]\n",
      "dC/db for layer 2:\n",
      "[[0.        ]\n",
      " [0.        ]\n",
      " [0.        ]\n",
      " [0.08737146]]\n"
     ]
    }
   ],
   "source": [
    "layer_grads = backpropagation_batch(x, layers, activation_funcs, target, activation_ders)\n",
    "print('dC/dW for layer 1:')\n",
    "print(layer_grads[0][0])\n",
    "print('dC/db for layer 1:')\n",
    "print(layer_grads[0][1])\n",
    "print('dC/dW for layer 2:')\n",
    "print(layer_grads[1][0])\n",
    "print('dC/db for layer 2:')\n",
    "print(layer_grads[1][1])"
   ]
  },
  {
   "cell_type": "markdown",
   "metadata": {},
   "source": [
    "# Exercise 7 - Training\n"
   ]
  },
  {
   "cell_type": "markdown",
   "metadata": {},
   "source": [
    "**a)** Complete exercise 6 and 7 from last week, but use your own backpropogation implementation to compute the gradient.\n",
    "- IMPORTANT: Do not implement the derivative terms for softmax and cross-entropy separately, it will be very hard!\n",
    "- Instead, use the fact that the derivatives multiplied together simplify to **prediction - target** (see [source1](https://medium.com/data-science/derivative-of-the-softmax-function-and-the-categorical-cross-entropy-loss-ffceefc081d1), [source2](https://shivammehta25.github.io/posts/deriving-categorical-cross-entropy-and-softmax/))\n",
    "\n",
    "**b)** Use stochastic gradient descent with momentum when you train your network.\n"
   ]
  },
  {
   "cell_type": "code",
   "execution_count": 148,
   "metadata": {},
   "outputs": [
    {
     "data": {
      "image/png": "[encoded data removed]",
      "text/plain": [
       "<Figure size 640x480 with 1 Axes>"
      ]
     },
     "metadata": {},
     "output_type": "display_data"
    }
   ],
   "source": [
    "iris = datasets.load_iris()\n",
    "\n",
    "_, ax = plt.subplots()\n",
    "scatter = ax.scatter(iris.data[:, 0], iris.data[:, 1], c=iris.target)\n",
    "ax.set(xlabel=iris.feature_names[0], ylabel=iris.feature_names[1])\n",
    "_ = ax.legend(\n",
    "    scatter.legend_elements()[0], iris.target_names, loc=\"lower right\", title=\"Classes\"\n",
    ")"
   ]
  },
  {
   "cell_type": "code",
   "execution_count": 174,
   "metadata": {},
   "outputs": [],
   "source": [
    "inputs = iris.data.T  # (4, 150)\n",
    "targets = np.zeros((3, len(iris.data)))  # (3, 150)\n",
    "for i, t in enumerate(iris.target):\n",
    "    targets[t, i] = 1"
   ]
  },
  {
   "cell_type": "code",
   "execution_count": null,
   "metadata": {},
   "outputs": [
    {
     "name": "stdout",
     "output_type": "stream",
     "text": [
      "Final accuracy: 0.9666666666666667\n"
     ]
    }
   ],
   "source": [
    "def softmax(z):\n",
    "    e_z = np.exp(z - np.max(z, axis=0, keepdims=True))\n",
    "    return e_z / np.sum(e_z, axis=0, keepdims=True)\n",
    "\n",
    "def cross_entropy(predict, target):\n",
    "    return -np.mean(np.sum(target * np.log(predict + 1e-8), axis=0))\n",
    "\n",
    "def cross_entropy_der(predictions, targets):\n",
    "    return predictions - targets\n",
    "\n",
    "def accuracy(predictions, targets):\n",
    "    pred_labels = np.argmax(predictions, axis=0)\n",
    "    true_labels = np.argmax(targets, axis=0)\n",
    "    return np.mean(pred_labels == true_labels)\n",
    "\n",
    "def train_network_momentum(\n",
    "    inputs, layers, activation_funcs, activation_ders,\n",
    "    targets, learning_rate=0.1, momentum=0.9, epochs=100, batch_size=10\n",
    "):\n",
    "    n_samples = inputs.shape[1]\n",
    "    velocities = [(np.zeros_like(W), np.zeros_like(b)) for (W, b) in layers]\n",
    "\n",
    "    for epoch in range(epochs):\n",
    "        indices = np.random.permutation(n_samples)\n",
    "        inputs_shuffled = inputs[:, indices]\n",
    "        targets_shuffled = targets[:, indices]\n",
    "\n",
    "        for start in range(0, n_samples, batch_size):\n",
    "            end = start + batch_size\n",
    "            x_batch = inputs_shuffled[:, start:end]\n",
    "            y_batch = targets_shuffled[:, start:end]\n",
    "\n",
    "            grads = backpropagation_batch(\n",
    "                x_batch, layers, activation_funcs, y_batch,\n",
    "                activation_ders, cost_der=cross_entropy_der\n",
    "            )\n",
    "\n",
    "            for i, ((W, b), (dW, db)) in enumerate(zip(layers, grads)):\n",
    "                vW, vb = velocities[i]\n",
    "                vW = momentum * vW - learning_rate * dW\n",
    "                vb = momentum * vb - learning_rate * db\n",
    "                W += vW\n",
    "                b += vb\n",
    "                velocities[i] = (vW, vb)\n",
    "\n",
    "    return layers\n",
    "\n",
    "\n",
    "network_input_size = 4\n",
    "layer_output_sizes = [8, 3]\n",
    "activation_funcs = [sigmoid, softmax]\n",
    "activation_ders = [sigmoid_der, lambda z: 1]\n",
    "\n",
    "layers = create_layers_batch(network_input_size, layer_output_sizes)\n",
    "\n",
    "trained_layers = train_network_momentum(\n",
    "    inputs, layers, activation_funcs, activation_ders, targets,\n",
    "    learning_rate=0.01, momentum=0.9, epochs=100, batch_size=10\n",
    ")\n",
    "\n",
    "preds = feed_forward_batch(inputs, trained_layers, activation_funcs)\n",
    "print(\"Final accuracy:\", accuracy(preds, targets))"
   ]
  },
  {
   "cell_type": "markdown",
   "metadata": {},
   "source": [
    "# Exercise 8 (Optional) - Object orientation\n",
    "\n",
    "Passing in the layers, activations functions, activation derivatives and cost derivatives into the functions each time leads to code which is easy to understand in isoloation, but messier when used in a larger context with data splitting, data scaling, gradient methods and so forth. Creating an object which stores these values can lead to code which is much easier to use.\n",
    "\n",
    "**a)** Write a neural network class. You are free to implement it how you see fit, though we strongly recommend to not save any input or output values as class attributes, nor let the neural network class handle gradient methods internally. Gradient methods should be handled outside, by performing general operations on the layer_grads list using functions or classes separate to the neural network.\n",
    "\n",
    "We provide here a skeleton structure which should get you started.\n"
   ]
  },
  {
   "cell_type": "code",
   "execution_count": null,
   "metadata": {},
   "outputs": [],
   "source": [
    "class NeuralNetwork:\n",
    "    def __init__(\n",
    "        self,\n",
    "        network_input_size,\n",
    "        layer_output_sizes,\n",
    "        activation_funcs,\n",
    "        activation_ders,\n",
    "        cost_fun,\n",
    "        cost_der,\n",
    "    ):\n",
    "        pass\n",
    "\n",
    "    def predict(self, inputs):\n",
    "        # Simple feed forward pass\n",
    "        pass\n",
    "\n",
    "    def cost(self, inputs, targets):\n",
    "        pass\n",
    "\n",
    "    def _feed_forward_saver(self, inputs):\n",
    "        pass\n",
    "\n",
    "    def compute_gradient(self, inputs, targets):\n",
    "        pass\n",
    "\n",
    "    def update_weights(self, layer_grads):\n",
    "        pass\n",
    "\n",
    "    # These last two methods are not needed in the project, but they can be nice to have! The first one has a layers parameter so that you can use autograd on it\n",
    "    def autograd_compliant_predict(self, layers, inputs):\n",
    "        pass\n",
    "\n",
    "    def autograd_gradient(self, inputs, targets):\n",
    "        pass"
   ]
  }
 ],
 "metadata": {
  "kernelspec": {
   "display_name": "exercises",
   "language": "python",
   "name": "python3"
  },
  "language_info": {
   "codemirror_mode": {
    "name": "ipython",
    "version": 3
   },
   "file_extension": ".py",
   "mimetype": "text/x-python",
   "name": "python",
   "nbconvert_exporter": "python",
   "pygments_lexer": "ipython3",
   "version": "3.13.5"
  }
 },
 "nbformat": 4,
 "nbformat_minor": 4
}
