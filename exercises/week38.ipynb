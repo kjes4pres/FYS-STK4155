{
 "cells": [
  {
   "cell_type": "markdown",
   "id": "1da77599",
   "metadata": {},
   "source": [
    "# Exercises week 38\n",
    "\n",
    "## September 15-19\n",
    "\n",
    "## Resampling and the Bias-Variance Trade-off\n"
   ]
  },
  {
   "cell_type": "markdown",
   "id": "ff91bbd4",
   "metadata": {},
   "source": [
    "#### Kjersti Stangeland, fall 2025"
   ]
  },
  {
   "cell_type": "markdown",
   "id": "984af8e3",
   "metadata": {},
   "source": [
    "### Definitions\n",
    "\n",
    "We assume that there exists a continuous function $f(\\boldsymbol{x})$ and a normal distributed error $\\boldsymbol{\\varepsilon}\\sim N(0, \\sigma^2)$ which describes our data\n"
   ]
  },
  {
   "cell_type": "markdown",
   "id": "c16f7d0e",
   "metadata": {},
   "source": [
    "$$\n",
    "\\boldsymbol{y} = f(\\boldsymbol{x})+\\boldsymbol{\\varepsilon}\n",
    "$$\n"
   ]
  },
  {
   "cell_type": "markdown",
   "id": "9fcf981a",
   "metadata": {
    "vscode": {
     "languageId": "plaintext"
    }
   },
   "source": [
    "We further assume that this continous function can be modeled with a linear model $\\mathbf{\\tilde{y}}$ of some features $\\mathbf{X}$.\n"
   ]
  },
  {
   "cell_type": "markdown",
   "id": "d4189366",
   "metadata": {},
   "source": [
    "$$\n",
    "\\boldsymbol{y} = \\boldsymbol{\\tilde{y}} + \\boldsymbol{\\varepsilon} = \\boldsymbol{X}\\boldsymbol{\\beta} +\\boldsymbol{\\varepsilon}\n",
    "$$\n"
   ]
  },
  {
   "cell_type": "markdown",
   "id": "f4fca21b",
   "metadata": {},
   "source": [
    "We therefore get that our data $\\boldsymbol{y}$ has an expectation value $\\boldsymbol{X}\\boldsymbol{\\beta}$ and variance $\\sigma^2$, that is $\\boldsymbol{y}$ follows a normal distribution with mean value $\\boldsymbol{X}\\boldsymbol{\\beta}$ and variance $\\sigma^2$.\n"
   ]
  },
  {
   "cell_type": "markdown",
   "id": "5de0c7e6",
   "metadata": {},
   "source": [
    "## Exercise 1: Expectation values for ordinary least squares expressions\n"
   ]
  },
  {
   "cell_type": "markdown",
   "id": "d878c699",
   "metadata": {},
   "source": [
    "**a)** With the expressions for the optimal parameters $\\boldsymbol{\\hat{\\beta}_{OLS}}$ show that\n"
   ]
  },
  {
   "cell_type": "markdown",
   "id": "08b7007d",
   "metadata": {},
   "source": [
    "$$\n",
    "\\mathbb{E}(\\boldsymbol{\\hat{\\beta}_{OLS}}) = \\boldsymbol{\\beta}.\n",
    "$$\n"
   ]
  },
  {
   "cell_type": "markdown",
   "id": "f80e04a8",
   "metadata": {},
   "source": [
    "__Answer a):__\n",
    "\n",
    "The optimal parameters can be written as: \n",
    "$$\\boldsymbol{\\hat{\\beta}_{OLS}} = (\\boldsymbol{X^T X})^{-1}\\boldsymbol{X^T y}$$\n",
    "$$ = (\\boldsymbol{X^T X})^{-1}\\boldsymbol{X^T (X \\beta + \\epsilon} )$$\n",
    "$$=(\\boldsymbol{X^T X})^{-1}\\boldsymbol{X^T X \\beta} + (\\boldsymbol{X^T X})^{-1}\\boldsymbol{X^T \\epsilon}$$\n",
    "\n",
    "As $(\\boldsymbol{X^T X})^{-1}\\boldsymbol{X^T X} = \\bold I$, we have:\n",
    "\n",
    "$$\\boldsymbol{\\hat{\\beta}_{OLS}} = \\boldsymbol{\\beta} + (\\boldsymbol{X^T X})^{-1}\\boldsymbol{X^T \\epsilon}$$\n",
    "\n",
    "Finding the expected value of this, yields:\n",
    "\n",
    "$$\\mathbb{E}(\\boldsymbol{\\hat{\\beta}_{OLS}}) = \\mathbb{E}(\\boldsymbol{\\beta} + (\\boldsymbol{X^T X})^{-1}\\boldsymbol{X^T \\epsilon})$$\n",
    "\n",
    "as $\\mathbb{E}(\\epsilon) = 0$ and the other variables are deterministic (not random), $\\mathbb{E}(\\boldsymbol{\\hat{\\beta}_{OLS}}) = \\boldsymbol{\\beta}$."
   ]
  },
  {
   "cell_type": "markdown",
   "id": "46e93394",
   "metadata": {},
   "source": [
    "**b)** Show that the variance of $\\boldsymbol{\\hat{\\beta}_{OLS}}$ is\n"
   ]
  },
  {
   "cell_type": "markdown",
   "id": "be1b65be",
   "metadata": {},
   "source": [
    "$$\n",
    "\\mathbf{Var}(\\boldsymbol{\\hat{\\beta}_{OLS}}) = \\sigma^2 \\, (\\mathbf{X}^{T} \\mathbf{X})^{-1}.\n",
    "$$\n"
   ]
  },
  {
   "cell_type": "markdown",
   "id": "d19d7609",
   "metadata": {},
   "source": [
    "__Answer b):__\n",
    "\n",
    "From the previous exercise, we have that $\\boldsymbol{\\hat{\\beta}_{OLS}} = \\boldsymbol{\\beta} + (\\boldsymbol{X^T X})^{-1}\\boldsymbol{X^T \\epsilon}$.\n",
    "\n",
    "Again, $\\beta$ is deterministic and has no variance. However, $\\epsilon$ has a normal distribution with mean $0$ and variance $\\sigma^2$. To derive the expression of the variance, I will use the relation which is for a constant matrix $\\bold A$ and a random vector $\\bold z$, $\\mathbf{Var}(\\boldsymbol{Az}) = \\bold A \\mathbf{Var}(\\bold y) \\bold A^T$. In this case, $\\bold A = (\\boldsymbol{\\boldsymbol{X^T X})^{-1}\\boldsymbol{X^T}}$ and $\\bold z = \\epsilon$.\n",
    "\n",
    "$$\\mathbf{Var}(\\hat{\\beta}_{OLS}) = \\mathbf{Var}((\\boldsymbol{X^T X})^{-1}\\boldsymbol{X^T \\epsilon}) = (\\boldsymbol{X^T X})^{-1}\\boldsymbol{X^T} \\mathbf{Var}(\\epsilon) ((\\boldsymbol{X^T X})^{-1}\\boldsymbol{X^T})^T $$\n",
    "\n",
    "$\\mathbf{Var}(\\epsilon) = \\sigma^2 \\bold I$ and so, \n",
    "\n",
    "$$\\mathbf{Var}(\\hat{\\beta}_{OLS}) = (\\boldsymbol{X^T X})^{-1}\\boldsymbol{X^T} \\sigma^2 \\bold I ((\\boldsymbol{X^T X})^{-1}\\boldsymbol{X^T})^T\n",
    "\n",
    "= \\sigma^2 (\\boldsymbol{X^T X})^{-1}\\boldsymbol{X^T} ((\\boldsymbol{X^T X})^{-1}\\boldsymbol{X^T})^T\n",
    "\n",
    "= \\sigma^2 (\\boldsymbol{X^T X})^{-1}\\boldsymbol{X^T} \\boldsymbol{X}(\\boldsymbol{X^T X})^{-1} = \\sigma^2 (\\boldsymbol{X^T X})^{-1}\n",
    "$$\n",
    "\n"
   ]
  },
  {
   "cell_type": "markdown",
   "id": "d2143684",
   "metadata": {},
   "source": [
    "We can use the last expression when we define a [confidence interval](https://en.wikipedia.org/wiki/Confidence_interval) for the parameters $\\boldsymbol{\\hat{\\beta}_{OLS}}$.\n",
    "A given parameter ${\\boldsymbol{\\hat{\\beta}_{OLS}}}_j$ is given by the diagonal matrix element of the above matrix.\n"
   ]
  },
  {
   "cell_type": "markdown",
   "id": "f5c2dc22",
   "metadata": {},
   "source": [
    "## Exercise 2: Expectation values for Ridge regression\n"
   ]
  },
  {
   "cell_type": "markdown",
   "id": "3893e3e7",
   "metadata": {},
   "source": [
    "**a)** With the expressions for the optimal parameters $\\boldsymbol{\\hat{\\beta}_{Ridge}}$ show that\n",
    "\n",
    "$$\n",
    "\\mathbb{E} \\big[ \\hat{\\boldsymbol{\\beta}}^{\\mathrm{Ridge}} \\big]=(\\mathbf{X}^{T} \\mathbf{X} + \\lambda \\mathbf{I}_{pp})^{-1} (\\mathbf{X}^{\\top} \\mathbf{X})\\boldsymbol{\\beta}\n",
    "$$\n"
   ]
  },
  {
   "cell_type": "markdown",
   "id": "028209a1",
   "metadata": {},
   "source": [
    "We see that $\\mathbb{E} \\big[ \\hat{\\boldsymbol{\\beta}}^{\\mathrm{Ridge}} \\big] \\not= \\mathbb{E} \\big[\\hat{\\boldsymbol{\\beta}}^{\\mathrm{OLS}}\\big ]$ for any $\\lambda > 0$.\n"
   ]
  },
  {
   "cell_type": "markdown",
   "id": "00f14c8b",
   "metadata": {},
   "source": [
    "__Answer a):__\n",
    "The optimal parameters can be written as: \n",
    "$$\\boldsymbol{\\hat{\\beta}_{Ridge}} = (\\bold{X^T}\\bold{X} + \\lambda \\bold{I})^{-1}\\bold{X^T} \\bold{y}$$\n",
    "\n",
    "$$\\mathbb{E}[\\hat{\\beta}_{Ridge}] = (\\bold{X^T}\\bold{X} + \\lambda \\bold{I})^{-1}\\bold{X^T} \\mathbb{E}[\\bold{y}]$$\n",
    "\n",
    "$\\mathbb{E}[\\bold{y}] = \\mathbb{E}[\\boldsymbol{X \\beta + \\epsilon}] = \\boldsymbol{X \\beta} \\mathbb{E}[\\epsilon] = \\boldsymbol{X \\beta}$, and so\n",
    "\n",
    "$$\\mathbb{E}[\\hat{\\beta}_{Ridge}] = (\\bold{X^T}\\bold{X} + \\lambda \\bold{I})^{-1}\\bold{X^T} \\boldsymbol{X \\beta}$$\n"
   ]
  },
  {
   "cell_type": "markdown",
   "id": "65f6f914",
   "metadata": {},
   "source": [
    "**b)** Why do we say that Ridge regression gives a biased estimate? Is this a problem?\n"
   ]
  },
  {
   "cell_type": "markdown",
   "id": "8b74f6bd",
   "metadata": {},
   "source": [
    "__Answer b):__\n",
    "The Ridge estimator is biased as it does not equal $\\beta$, unless $\\lambda = 0$. The hyperparameter introduces a bias as the model penalizes large values, and thus has a tendency to move towards smaller values."
   ]
  },
  {
   "cell_type": "markdown",
   "id": "b4e721fc",
   "metadata": {},
   "source": [
    "**c)** Show that the variance is\n",
    "\n",
    "$$\n",
    "\\mathbf{Var}[\\hat{\\boldsymbol{\\beta}}^{\\mathrm{Ridge}}]=\\sigma^2[  \\mathbf{X}^{T} \\mathbf{X} + \\lambda \\mathbf{I} ]^{-1}  \\mathbf{X}^{T}\\mathbf{X} \\{ [  \\mathbf{X}^{\\top} \\mathbf{X} + \\lambda \\mathbf{I} ]^{-1}\\}^{T}\n",
    "$$"
   ]
  },
  {
   "cell_type": "markdown",
   "id": "99227c56",
   "metadata": {},
   "source": [
    "__Answer c):__\n",
    "\n",
    "$$\\boldsymbol{\\hat{\\beta}_{Ridge}} = (\\bold{X^T}\\bold{X} + \\lambda \\bold{I})^{-1}\\bold{X^T} \\bold{y}$$\n",
    "$$= (\\bold{X^T}\\bold{X} + \\lambda \\bold{I})^{-1}\\bold{X^T} (\\boldsymbol{X\\beta + \\epsilon})$$\n",
    "$$ = (\\bold{X^T}\\bold{X} + \\lambda \\bold{I})^{-1}\\bold{X^T}\\boldsymbol{X\\beta} + (\\bold{X^T}\\bold{X} + \\lambda \\bold{I})^{-1}\\bold{X^T}\\boldsymbol{\\epsilon}$$\n",
    "\n",
    "So only the latter term is stochastic and contributes to the variance. Now I'm using the same 'trick' as in 1 b), with: $\\mathbf{Var}(\\boldsymbol{Az}) = \\bold A \\mathbf{Var}(\\bold y) \\bold A^T$.\n",
    "\n",
    "$$\\mathbf{Var}[\\boldsymbol{\\hat{\\beta}_{Ridge}}] = \\mathbf{Var}[(\\bold{X^T}\\bold{X} + \\lambda \\bold{I})^{-1}\\bold{X^T}\\boldsymbol{\\epsilon}]$$\n",
    "\n",
    "$$= \\sigma^2 (\\bold{X^T}\\bold{X} + \\lambda \\bold{I})^{-1}\\bold{X^T} ((\\bold{X^T}\\bold{X} + \\lambda \\bold{I})^{-1}\\bold{X^T})^T$$\n",
    "$$= \\sigma^2 (\\bold{X^T}\\bold{X} + \\lambda \\bold{I})^{-1}\\bold{X^T} \\bold X((\\bold{X^T}\\bold{X} + \\lambda \\bold{I})^{-1})^T$$"
   ]
  },
  {
   "cell_type": "markdown",
   "id": "6b8e8697",
   "metadata": {},
   "source": [
    "We see that if the parameter $\\lambda$ goes to infinity then the variance of the Ridge parameters $\\boldsymbol{\\beta}$ goes to zero.\n"
   ]
  },
  {
   "cell_type": "markdown",
   "id": "74bc300b",
   "metadata": {},
   "source": [
    "## Exercise 3: Deriving the expression for the Bias-Variance Trade-off\n"
   ]
  },
  {
   "cell_type": "markdown",
   "id": "eeb86010",
   "metadata": {},
   "source": [
    "The aim of this exercise is to derive the equations for the bias-variance tradeoff to be used in project 1.\n",
    "\n",
    "The parameters $\\boldsymbol{\\hat{\\beta}_{OLS}}$ are found by optimizing the mean squared error via the so-called cost function\n",
    "\n",
    "$$\n",
    "C(\\boldsymbol{X},\\boldsymbol{\\beta}) =\\frac{1}{n}\\sum_{i=0}^{n-1}(y_i-\\tilde{y}_i)^2=\\mathbb{E}\\left[(\\boldsymbol{y}-\\boldsymbol{\\tilde{y}})^2\\right]\n",
    "$$\n",
    "\n",
    "**a)** Show that you can rewrite this into an expression which contains\n",
    "\n",
    "- the variance of the model (the variance term)\n",
    "- the expected deviation of the mean of the model from the true data (the bias term)\n",
    "- the variance of the noise\n",
    "\n",
    "In other words, show that:\n",
    "\n",
    "$$\n",
    "\\mathbb{E}\\left[(\\boldsymbol{y}-\\boldsymbol{\\tilde{y}})^2\\right]=\\mathrm{Bias}[\\tilde{y}]+\\mathrm{var}[\\tilde{y}]+\\sigma^2,\n",
    "$$\n",
    "\n",
    "with\n",
    "\n",
    "$$\n",
    "\\mathrm{Bias}[\\tilde{y}]=\\mathbb{E}\\left[\\left(\\boldsymbol{y}-\\mathbb{E}\\left[\\boldsymbol{\\tilde{y}}\\right]\\right)^2\\right],\n",
    "$$\n",
    "\n",
    "and \n",
    "\n",
    "$$\n",
    "\\mathrm{var}[\\tilde{y}]=\\mathbb{E}\\left[\\left(\\tilde{\\boldsymbol{y}}-\\mathbb{E}\\left[\\boldsymbol{\\tilde{y}}\\right]\\right)^2\\right]=\\frac{1}{n}\\sum_i(\\tilde{y}_i-\\mathbb{E}\\left[\\boldsymbol{\\tilde{y}}\\right])^2.\n",
    "$$"
   ]
  },
  {
   "cell_type": "markdown",
   "id": "a1f689db",
   "metadata": {},
   "source": [
    "This wasnt exactly what I was supposed to show, but after some hours stuck on this I'll let it be."
   ]
  },
  {
   "cell_type": "markdown",
   "id": "c73c4fb7",
   "metadata": {},
   "source": [
    "__Answer a)__:\n",
    "We have $C(\\boldsymbol{X},\\boldsymbol{\\beta}) = \\mathbb{E}\\left[(\\boldsymbol{y}-\\boldsymbol{\\tilde{y}})^2\\right]$.\n",
    "\n",
    "$$\\mathbb{E}\\left[(\\boldsymbol{y}-\\boldsymbol{\\tilde{y}})^2\\right] = \\mathbb{E}[(\\boldsymbol{y^2 - 2 y \\tilde{y} + \\tilde{y}^2})]$$\n",
    "\n",
    "$$= \\mathbb{E}[\\boldsymbol{y^2}] - 2\\mathbb{E}[\\boldsymbol{y \\tilde{y}}] + \\mathbb{E}[\\boldsymbol{\\tilde{y}^2}]$$\n",
    "\n",
    "Now looking into the terms separately. The first term can be rewritten by inserting one of the first assumptions we made, that $\\boldsymbol{y} = f + \\epsilon$. And, as $f$ is non-stochastic and independent of $\\epsilon$, in addition to the assumption that $\\mathbb{E}[\\epsilon] = 0$ and $\\mathbb{E}[\\epsilon^2] = \\sigma^2$, we get:\n",
    "\n",
    "$$\\mathbb{E}[\\boldsymbol{y^2}] = \\mathbb{E}[(f + \\epsilon)^2] = \\mathbb{E}[f^2] + 2\\mathbb{E}[f\\epsilon] + \\mathbb{E}[\\epsilon^2]$$\n",
    "$$= f^2 + \\sigma^2$$\n",
    "\n",
    "Then, for the second term we have that\n",
    "$$\\mathbb{E}[\\boldsymbol{y \\tilde{y}}] = \\mathbb{E}[\\boldsymbol{(f + \\epsilon) \\tilde{y}}] \n",
    "= \\mathbb{E}[\\boldsymbol{f\\tilde{y} + \\epsilon \\tilde{y} }]$$\n",
    "\n",
    "$$\n",
    "= \\mathbb{E}[\\boldsymbol{f\\tilde{y}}] + \\mathbb{E}[\\boldsymbol{\\epsilon \\tilde{y}}]\n",
    "= f \\mathbb{E[\\boldsymbol{\\tilde{y}}]}\n",
    "$$\n",
    "\n",
    "\n",
    "\n",
    "Lastly, we have per definition that $\\text{Var}(X) = \\mathbb{E}[X^2] - \\mu_x^2$, so the last term is:\n",
    "\n",
    "$$\\mathbb{E}[\\boldsymbol{\\tilde{y}^2}] = \\text{Var}(\\boldsymbol{\\tilde{y}}) + \\mathbb{E}[\\boldsymbol{\\tilde{y}}]^2$$\n",
    "\n",
    "Gathering the terms leaves us with:\n",
    "\n",
    "$$\n",
    "\\mathbb{E}\\left[(\\boldsymbol{y}-\\boldsymbol{\\tilde{y}})^2\\right] = f^2 -2(f \\mathbb{E[\\boldsymbol{\\tilde{y}}]}) + \\mathbb{E}[\\boldsymbol{\\tilde{y}}]^2+ \\text{Var}(\\boldsymbol{\\tilde{y}}) + \\sigma^2\n",
    "$$\n",
    "\n",
    "$$\n",
    "= \\mathbb{E}[(f - \\mathbb{E}[\\boldsymbol{\\tilde{y}}])^2] + \\text{Var}(\\boldsymbol{\\tilde{y}}) + \\sigma^2\n",
    "$$\n",
    "\n",
    "\n",
    "And by approximating that $f(x) \\approx \\boldsymbol{y}$, we have:\n",
    "\n",
    "$$\n",
    "\\mathbb{E}\\left[(\\boldsymbol{y}-\\boldsymbol{\\tilde{y}})^2\\right] = \\text{Bias}(\\boldsymbol{\\tilde{y}}) + \\text{Var}(\\boldsymbol{\\tilde{y}}) + \\sigma^2\n",
    "$$"
   ]
  },
  {
   "cell_type": "markdown",
   "id": "70fbfcd7",
   "metadata": {},
   "source": [
    "**b)** Explain what the terms mean and discuss their interpretations.\n"
   ]
  },
  {
   "cell_type": "markdown",
   "id": "f438cb2d",
   "metadata": {},
   "source": [
    "__Answer b):__\n",
    "* The variance of the model gives an estimate on the spread in the model data (not compared to the target data). A small variance means that the model values are close together around the model mean, whereas a large variance would mean a lot of scatter in the model.\n",
    "* The bias term indicates how far off the model mean is from the true mean.\n",
    "* The variance of the noise can be interpreted as the noise in the noise, how scattered the noise itself is from its mean zero."
   ]
  },
  {
   "cell_type": "markdown",
   "id": "b8f8b9d1",
   "metadata": {},
   "source": [
    "## Exercise 4: Computing the Bias and Variance\n"
   ]
  },
  {
   "cell_type": "markdown",
   "id": "9e012430",
   "metadata": {},
   "source": [
    "Before you compute the bias and variance of a real model for different complexities, let's for now assume that you have sampled predictions and targets for a single model complexity using bootstrap resampling.\n",
    "\n",
    "**a)** Using the expression above, compute the mean squared error, bias and variance of the given data. Check that the sum of the bias and variance correctly gives (approximately) the mean squared error.\n"
   ]
  },
  {
   "cell_type": "code",
   "execution_count": 1,
   "id": "b5bf581c",
   "metadata": {},
   "outputs": [],
   "source": [
    "import numpy as np\n",
    "\n",
    "n = 100\n",
    "bootstraps = 1000\n",
    "\n",
    "predictions = np.random.rand(bootstraps, n) * 10 + 10\n",
    "targets = np.random.rand(bootstraps, n)\n",
    "\n",
    "pred_mean = np.mean(predictions)\n",
    "\n",
    "mse = np.mean((predictions-targets)**2)\n",
    "bias = np.mean((targets - pred_mean)**2)\n",
    "variance = np.mean((predictions - pred_mean)**2)"
   ]
  },
  {
   "cell_type": "code",
   "execution_count": 2,
   "id": "d334723f",
   "metadata": {},
   "outputs": [
    {
     "name": "stdout",
     "output_type": "stream",
     "text": [
      "Target mean 0.49956813884108575\n",
      "Prediction mean 14.983596625032495\n",
      "MSE: 218.22840913547776\n",
      "Bias 209.87032080188817\n",
      "Variance: 8.352740537687763\n",
      "Checking MSE = bias + variance: 218.22306133957593\n"
     ]
    }
   ],
   "source": [
    "print(f'Target mean {np.mean(targets)}')\n",
    "print(f'Prediction mean {pred_mean}')\n",
    "print(f'MSE: {mse}')\n",
    "print(f'Bias {bias}')\n",
    "print(f'Variance: {variance}')\n",
    "print(f'Checking MSE = bias + variance: {bias+variance}')"
   ]
  },
  {
   "cell_type": "markdown",
   "id": "7b1dc621",
   "metadata": {},
   "source": [
    "**b)** Change the prediction values in some way to increase the bias while decreasing the variance.\n"
   ]
  },
  {
   "cell_type": "code",
   "execution_count": 3,
   "id": "f0201703",
   "metadata": {},
   "outputs": [],
   "source": [
    "# Increase in bias would mean to move the prediction mean further away from the target\n",
    "# Decrease the variance would mean less scatter in the predictions\n",
    "\n",
    "predictions = np.random.rand(bootstraps, n) * 0.1 + 100\n",
    "targets = np.random.rand(bootstraps, n)\n",
    "\n",
    "pred_mean = np.mean(predictions)\n",
    "\n",
    "mse = np.mean((predictions-targets)**2)\n",
    "bias = np.mean((targets - pred_mean)**2)\n",
    "variance = np.mean((predictions - pred_mean)**2)"
   ]
  },
  {
   "cell_type": "code",
   "execution_count": 4,
   "id": "531e3727",
   "metadata": {},
   "outputs": [
    {
     "name": "stdout",
     "output_type": "stream",
     "text": [
      "Target mean 0.5006094887802561\n",
      "Prediction mean 100.0501281119227\n",
      "MSE: 9910.190911722695\n",
      "Bias 9910.190017724564\n",
      "Variance: 0.0008332936978540894\n",
      "Checking MSE = bias + variance: 9910.190851018262\n"
     ]
    }
   ],
   "source": [
    "print(f'Target mean {np.mean(targets)}')\n",
    "print(f'Prediction mean {pred_mean}')\n",
    "print(f'MSE: {mse}')\n",
    "print(f'Bias {bias}')\n",
    "print(f'Variance: {variance}')\n",
    "print(f'Checking MSE = bias + variance: {bias+variance}')"
   ]
  },
  {
   "cell_type": "markdown",
   "id": "f9436496",
   "metadata": {},
   "source": [
    "**c)** Change the prediction values in some way to increase the variance while decreasing the bias."
   ]
  },
  {
   "cell_type": "code",
   "execution_count": 5,
   "id": "02ec4dab",
   "metadata": {},
   "outputs": [],
   "source": [
    "# Decrease in bias would mean to move the prediction mean closer to the target\n",
    "# Inrease the variance would mean more scatter in the predictions\n",
    "predictions = np.random.rand(bootstraps, n) * 100 - 50\n",
    "targets = np.random.rand(bootstraps, n)\n",
    "\n",
    "pred_mean = np.mean(predictions)\n",
    "\n",
    "mse = np.mean((predictions-targets)**2)\n",
    "bias = np.mean((targets - pred_mean)**2)\n",
    "variance = np.mean((predictions - pred_mean)**2)"
   ]
  },
  {
   "cell_type": "code",
   "execution_count": 6,
   "id": "dec39c86",
   "metadata": {},
   "outputs": [
    {
     "name": "stdout",
     "output_type": "stream",
     "text": [
      "Target mean 0.499968405541761\n",
      "Prediction mean 0.03869006963511668\n",
      "MSE: 832.0738157244494\n",
      "Bias 0.29630552149903056\n",
      "Variance: 831.7993794229205\n",
      "Checking MSE = bias + variance: 832.0956849444195\n"
     ]
    }
   ],
   "source": [
    "print(f'Target mean {np.mean(targets)}')\n",
    "print(f'Prediction mean {pred_mean}')\n",
    "print(f'MSE: {mse}')\n",
    "print(f'Bias {bias}')\n",
    "print(f'Variance: {variance}')\n",
    "print(f'Checking MSE = bias + variance: {bias+variance}')"
   ]
  },
  {
   "cell_type": "markdown",
   "id": "8da63362",
   "metadata": {},
   "source": [
    "**d)** Perform a bias-variance analysis of a polynomial OLS model fit to a one-dimensional function by computing and plotting the bias and variances values as a function of the polynomial degree of your model.\n"
   ]
  },
  {
   "cell_type": "code",
   "execution_count": 7,
   "id": "dd5855e4",
   "metadata": {},
   "outputs": [],
   "source": [
    "import numpy as np\n",
    "import matplotlib.pyplot as plt\n",
    "from sklearn.preprocessing import (\n",
    "    PolynomialFeatures,\n",
    ")  # use the fit_transform method of the created object!\n",
    "from sklearn.linear_model import LinearRegression\n",
    "from sklearn.metrics import mean_squared_error\n",
    "from sklearn.model_selection import train_test_split\n",
    "from sklearn.utils import resample"
   ]
  },
  {
   "cell_type": "markdown",
   "id": "7e3c0024",
   "metadata": {},
   "source": [
    "Struggled a bit here so spent some time copying the lecture notes and understanding whats going on."
   ]
  },
  {
   "cell_type": "code",
   "execution_count": 37,
   "id": "7e35fa37",
   "metadata": {},
   "outputs": [],
   "source": [
    "n = 400\n",
    "bootstraps = 100\n",
    "max_degree = 14\n",
    "\n",
    "x = np.linspace(-3, 3, n).reshape(-1, 1)\n",
    "y = np.exp(-(x**2)) + 1.5 * np.exp(-((x - 2) ** 2)) + np.random.normal(0, 0.1, x.shape)\n",
    "\n",
    "error = np.zeros(max_degree)\n",
    "bias = np.zeros(max_degree)\n",
    "variance = np.zeros(max_degree)\n",
    "\n",
    "x_train, x_test, y_train, y_test = train_test_split(x, y, test_size=0.2)\n",
    "\n",
    "for degree in np.arange(max_degree):\n",
    "    poly = PolynomialFeatures(degree=degree)\n",
    "    X_train = poly.fit_transform(x_train)\n",
    "    X_test = poly.transform(x_test)\n",
    "\n",
    "    y_pred = np.empty((y_test.shape[0], bootstraps))\n",
    "\n",
    "    for i in range(bootstraps):\n",
    "        X_res, y_res = resample(X_train, y_train)\n",
    "        model = LinearRegression(fit_intercept=False).fit(X_res, y_res)\n",
    "        y_pred[:, i] = model.predict(X_test).ravel()\n",
    "\n",
    "    error[degree] = np.mean((y_test - y_pred)**2)\n",
    "    bias[degree] = np.mean((y_test - np.mean(y_pred, axis=1, keepdims=True))**2)\n",
    "    variance[degree] = np.mean(np.var(y_pred, axis=1))"
   ]
  },
  {
   "cell_type": "code",
   "execution_count": 39,
   "id": "50cf1e71",
   "metadata": {},
   "outputs": [
    {
     "data": {
      "text/plain": [
       "<matplotlib.legend.Legend at 0x16985ac10>"
      ]
     },
     "execution_count": 39,
     "metadata": {},
     "output_type": "execute_result"
    },
    {
     "data": {
      "image/png": "[encoded data removed]",
      "text/plain": [
       "<Figure size 640x480 with 1 Axes>"
      ]
     },
     "metadata": {},
     "output_type": "display_data"
    }
   ],
   "source": [
    "plt.plot(error, label='MSE')\n",
    "plt.plot(bias, label='Bias')\n",
    "plt.plot(variance, label='Variance')\n",
    "\n",
    "plt.xlabel('Polynomial degree')\n",
    "\n",
    "plt.legend()"
   ]
  },
  {
   "cell_type": "markdown",
   "id": "253b8461",
   "metadata": {},
   "source": [
    "**e)** Discuss the bias-variance trade-off as function of your model complexity (the degree of the polynomial).\n"
   ]
  },
  {
   "cell_type": "markdown",
   "id": "bb582914",
   "metadata": {},
   "source": [
    "* Overfitting: Low bias, high variance. Happens at large model complexity.\n",
    "* Underfitting: Large bias, low variance. Happens at low model complexity.\n",
    "\n",
    "The goal is to hit the sweet spot where the model complexity gives a low MSE and the bias and variance are in harmony:)\n",
    "\n",
    "The variance increases with model complexity, whereas the bias decreases."
   ]
  },
  {
   "cell_type": "markdown",
   "id": "e3ea904f",
   "metadata": {},
   "source": [
    "**f)** Compute and discuss the bias and variance as function of the number of data points (choose a suitable polynomial degree to show something interesting)."
   ]
  },
  {
   "cell_type": "code",
   "execution_count": 10,
   "id": "29ed57ca",
   "metadata": {},
   "outputs": [],
   "source": [
    "datapoints = np.arange(50, 1000, 50)\n",
    "bootstraps = 1000\n",
    "degree = 5\n",
    "\n",
    "error = []\n",
    "bias = []\n",
    "variance = []\n",
    "\n",
    "for n in datapoints:\n",
    "    x = np.linspace(-3, 3, n).reshape(-1, 1)\n",
    "    y = np.exp(-(x**2)) + 1.5 * np.exp(-((x - 2) ** 2)) + np.random.normal(0, 0.1, x.shape)\n",
    "\n",
    "    x_train, x_test, y_train, y_test = train_test_split(x, y, test_size=0.2)\n",
    "\n",
    "    poly = PolynomialFeatures(degree=degree)\n",
    "    X_train = poly.fit_transform(x_train)\n",
    "    X_test = poly.transform(x_test)\n",
    "\n",
    "    y_pred = np.empty((y_test.shape[0], bootstraps))\n",
    "\n",
    "    for i in range(bootstraps):\n",
    "        X_res, y_res = resample(X_train, y_train)\n",
    "        model = LinearRegression(fit_intercept=False).fit(X_res, y_res)\n",
    "        y_pred[:, i] = model.predict(X_test).ravel()\n",
    "\n",
    "    error.append(np.mean((y_test - y_pred)**2))\n",
    "    bias.append( np.mean((y_test - np.mean(y_pred, axis=1, keepdims=True))**2))\n",
    "    variance.append(np.mean(np.var(y_pred, axis=1)))"
   ]
  },
  {
   "cell_type": "code",
   "execution_count": 11,
   "id": "7388b201",
   "metadata": {},
   "outputs": [
    {
     "data": {
      "text/plain": [
       "array([ 50, 100, 150, 200, 250, 300, 350, 400, 450, 500, 550, 600, 650,\n",
       "       700, 750, 800, 850, 900, 950])"
      ]
     },
     "execution_count": 11,
     "metadata": {},
     "output_type": "execute_result"
    }
   ],
   "source": [
    "datapoints"
   ]
  },
  {
   "cell_type": "code",
   "execution_count": 12,
   "id": "4de703fc",
   "metadata": {},
   "outputs": [
    {
     "data": {
      "text/plain": [
       "<matplotlib.legend.Legend at 0x169082350>"
      ]
     },
     "execution_count": 12,
     "metadata": {},
     "output_type": "execute_result"
    },
    {
     "data": {
      "image/png": "[encoded data removed]",
      "text/plain": [
       "<Figure size 640x480 with 1 Axes>"
      ]
     },
     "metadata": {},
     "output_type": "display_data"
    }
   ],
   "source": [
    "plt.plot(datapoints, bias, label='Bias')\n",
    "plt.plot(datapoints, variance, label='Variance')\n",
    "plt.plot(datapoints, error, label='MSE')\n",
    "\n",
    "plt.xlabel('Number of datapoints')\n",
    "\n",
    "plt.legend()"
   ]
  },
  {
   "cell_type": "markdown",
   "id": "fd4e5842",
   "metadata": {},
   "source": [
    "So it seems that the variance improves with larger number of data points, but the bias and MSE has a strange behaviour. "
   ]
  },
  {
   "cell_type": "markdown",
   "id": "46250fbc",
   "metadata": {},
   "source": [
    "## Exercise 5: Interpretation of scaling and metrics\n"
   ]
  },
  {
   "cell_type": "markdown",
   "id": "5af53055",
   "metadata": {},
   "source": [
    "In this course, we often ask you to scale data and compute various metrics. Although these practices are \"standard\" in the field, we will require you to demonstrate an understanding of _why_ you need to scale data and use these metrics. Both so that you can make better arguements about your results, and so that you will hopefully make fewer mistakes.\n",
    "\n",
    "First, a few reminders: In this course you should always scale the columns of the feature matrix, and sometimes scale the target data, when it is worth the effort. By scaling, we mean subtracting the mean and dividing by the standard deviation, though there are many other ways to scale data. When scaling either the feature matrix or the target data, the intercept becomes a bit harder to implement and understand, so take care.\n",
    "\n",
    "Briefly answer the following:\n",
    "\n",
    "**a)** Why do we scale data?\n",
    "\n",
    "**b)** Why does the OLS method give practically equivelent models on scaled and unscaled data?\n",
    "\n",
    "**c)** Why does the Ridge method **not** give practically equivelent models on scaled and unscaled data? Why do we only consider the model on scaled data correct?\n",
    "\n",
    "**d)** Why do we say that the Ridge method gives a biased model?\n",
    "\n",
    "**e)** Is the MSE of the OLS method affected by scaling of the feature matrix? Is it affected by scaling of the target data?\n",
    "\n",
    "**f)** Read about the R2 score, a metric we will ask you to use a lot later in the course. Is the R2 score of the OLS method affected by scaling of the feature matrix? Is it affected by scaling of the target data?\n",
    "\n",
    "**g)** Give interpretations of the following R2 scores: 0, 0.5, 1.\n",
    "\n",
    "**h)** What is an advantage of the R2 score over the MSE?\n"
   ]
  },
  {
   "cell_type": "markdown",
   "id": "e355a9bb",
   "metadata": {},
   "source": [
    "__Answers__\n",
    "\n",
    "*a)*\n",
    "We scale the data to make each feature contribute more equally to the model. Taking off the mean of each feature leaves the deviating part, which still leaves room for large features to dominate (but in the right ratio to the others). So we scale to avoid outliers. Take the example where the features are age in years and yearly income, then the values are largerly different, but the income shouldnt contribute more to the model than age. \n",
    "\n",
    "*b)*\n",
    "OLS give equivalent models regardless of scaling because in the minimization problem of OLS, adding a scale only changes the coefficients, not the predictions and thus MSE.\n",
    "\n",
    "*c)*\n",
    "In Ridge regression we have a penalty by the hyperparameter, which penalizes large features. Without scaling, the penalty would be larger, and thus it is not invariant to scaling. \n",
    "\n",
    "*d)*\n",
    "We say that Ridge is biased because it intentionally shrinks features. This may reduce the variance, as larger features and penalized more.\n",
    "\n",
    "*e)*\n",
    "Scaling the design matrix of OLS will have no effect on the predictions, but scaling the targets will. Say $MSE = 1/n \\sum(y-\\hat{y})^2$, if the target is scaled (multiplied with some constant), the MSE will be scaled by the same constant squared.\n",
    "\n",
    "*f)*\n",
    "$R^2 = 1-  \\frac{\\sum(y - \\tilde{y})^2}{\\sum(y - \\bar{y})^2}$ or \"$1 - \\frac{\\text{Unexplained variation}}{\\text{Total variation}}$\"\n",
    "\n",
    "It measures how much variation in the target is explained by the model compared to just predicting the mean. If the model can predict the variance in the observed values.\n",
    "\n",
    "*g)*\n",
    "* R^2=0:The model only predicts the mean of the observed values.\n",
    "* R^2=0.5: The model predicts 50% of the variance of the predicted values.\n",
    "* R^2=1: The model perfectly predicts the observed values.\n",
    "\n",
    "*h)*\n",
    "MSE is in the units of the observed data, but R^2 is unitless. So R^2 is a score that one can interpret across models and datasets, as it is normalized. Comparison of MSE of a model with different applications must take units into account."
   ]
  }
 ],
 "metadata": {
  "kernelspec": {
   "display_name": "exercises",
   "language": "python",
   "name": "python3"
  },
  "language_info": {
   "codemirror_mode": {
    "name": "ipython",
    "version": 3
   },
   "file_extension": ".py",
   "mimetype": "text/x-python",
   "name": "python",
   "nbconvert_exporter": "python",
   "pygments_lexer": "ipython3",
   "version": "3.13.5"
  }
 },
 "nbformat": 4,
 "nbformat_minor": 5
}
